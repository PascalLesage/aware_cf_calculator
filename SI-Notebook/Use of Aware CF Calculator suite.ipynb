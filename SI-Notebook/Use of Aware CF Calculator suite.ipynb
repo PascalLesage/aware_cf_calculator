{
 "cells": [
  {
   "cell_type": "markdown",
   "metadata": {},
   "source": [
    "# Sample use of the Aware python modules\n",
    "\n",
    "SI provided with the paper \"Quantifying uncertainty for AWARE characterization factors\"\n",
    "\n",
    "**Paper authors:**\n",
    "  - Anne-Marie Boulay (1, 2)\n",
    "  - Pascal Lesage (1) \n",
    "  - Stephan Pfister* (3)\n",
    "  - Ben Amor (2)\n",
    "\n",
    "**Code and notebook author:**\n",
    "  - Pascal Lesage** (1) \n",
    "\n",
    "1: CIRAIG, Polytechnique Montreal, Canada  \n",
    "2: LIRIDE, Sherbrooke University, Canada  \n",
    "3: ETH Zurich, Switzerland\n",
    "\n",
    "\\* Corresponding author for paper (stephan.pfister@ifu.baug.ethz.ch)  \n",
    "\\** Corresponding author for code and notebook (pascal.lesage@polymtl.ca)"
   ]
  },
  {
   "cell_type": "markdown",
   "metadata": {
    "toc": true
   },
   "source": [
    "<h1>Table of Contents<span class=\"tocSkip\"></span></h1>\n",
    "<div class=\"toc\"><ul class=\"toc-item\"><li><span><a href=\"#Objective-of-this-Notebook\" data-toc-modified-id=\"Objective-of-this-Notebook-1\"><span class=\"toc-item-num\">1&nbsp;&nbsp;</span>Objective of this Notebook</a></span></li><li><span><a href=\"#The-AWARE-model\" data-toc-modified-id=\"The-AWARE-model-2\"><span class=\"toc-item-num\">2&nbsp;&nbsp;</span>The AWARE model</a></span></li><li><span><a href=\"#AwareStatic-module\" data-toc-modified-id=\"AwareStatic-module-3\"><span class=\"toc-item-num\">3&nbsp;&nbsp;</span>AwareStatic module</a></span><ul class=\"toc-item\"><li><span><a href=\"#Objective\" data-toc-modified-id=\"Objective-3.1\"><span class=\"toc-item-num\">3.1&nbsp;&nbsp;</span>Objective</a></span></li><li><span><a href=\"#Input-parameters\" data-toc-modified-id=\"Input-parameters-3.2\"><span class=\"toc-item-num\">3.2&nbsp;&nbsp;</span>Input parameters</a></span></li><li><span><a href=\"#Using-AwareStatic\" data-toc-modified-id=\"Using-AwareStatic-3.3\"><span class=\"toc-item-num\">3.3&nbsp;&nbsp;</span>Using AwareStatic</a></span></li></ul></li><li><span><a href=\"#AwareStochastic\" data-toc-modified-id=\"AwareStochastic-4\"><span class=\"toc-item-num\">4&nbsp;&nbsp;</span>AwareStochastic</a></span><ul class=\"toc-item\"><li><span><a href=\"#Objective\" data-toc-modified-id=\"Objective-4.1\"><span class=\"toc-item-num\">4.1&nbsp;&nbsp;</span>Objective</a></span></li><li><span><a href=\"#Using-AwareStochastic\" data-toc-modified-id=\"Using-AwareStochastic-4.2\"><span class=\"toc-item-num\">4.2&nbsp;&nbsp;</span>Using AwareStochastic</a></span></li></ul></li><li><span><a href=\"#AwareAnalyser\" data-toc-modified-id=\"AwareAnalyser-5\"><span class=\"toc-item-num\">5&nbsp;&nbsp;</span>AwareAnalyser</a></span><ul class=\"toc-item\"><li><span><a href=\"#Objective\" data-toc-modified-id=\"Objective-5.1\"><span class=\"toc-item-num\">5.1&nbsp;&nbsp;</span>Objective</a></span></li><li><span><a href=\"#Sample-use-of-the-AwareAnalyser-methods\" data-toc-modified-id=\"Sample-use-of-the-AwareAnalyser-methods-5.2\"><span class=\"toc-item-num\">5.2&nbsp;&nbsp;</span>Sample use of the AwareAnalyser methods</a></span><ul class=\"toc-item\"><li><span><a href=\"#Instantiating-the-AwareAnalyser-object\" data-toc-modified-id=\"Instantiating-the-AwareAnalyser-object-5.2.1\"><span class=\"toc-item-num\">5.2.1&nbsp;&nbsp;</span>Instantiating the AwareAnalyser object</a></span></li><li><span><a href=\"#Graphing-results-for-a-watershed-month\" data-toc-modified-id=\"Graphing-results-for-a-watershed-month-5.2.2\"><span class=\"toc-item-num\">5.2.2&nbsp;&nbsp;</span>Graphing results for a watershed-month</a></span></li><li><span><a href=\"#Getting-some-stats\" data-toc-modified-id=\"Getting-some-stats-5.2.3\"><span class=\"toc-item-num\">5.2.3&nbsp;&nbsp;</span>Getting some stats</a></span></li></ul></li></ul></li></ul></div>"
   ]
  },
  {
   "cell_type": "markdown",
   "metadata": {},
   "source": [
    "## Objective of this Notebook"
   ]
  },
  {
   "cell_type": "markdown",
   "metadata": {},
   "source": [
    "An \"Aware\" module, with three classes (AwareStatic, AwareStochastic, AwareAnalysis) were coded to easily:\n",
    "\n",
    "  - Import and transform in put parameter data to the Aware model  \n",
    "  - Carry out calculations of characterization factors  \n",
    "  - Carry out Monte Carlo simulations to produce arrays of characterization factors  \n",
    "  - Retrieve results  \n",
    "  - Carry out analyses  \n",
    "  \n",
    "The code can be downloaded [here](https://github.com/PascalLesage/aware)  \n",
    "\n",
    "To install and use the package, you must:  \n",
    "  - Download the package [here](XXX)  \n",
    "  - [Install python](https://www.python.org/downloads/). \n",
    "  - Via your command line, navigate to the directory where the package was downloaded  \n",
    "  - Type `python setup aware_cf_calculator`  \n",
    "  \n",
    "To use the package, follow the instructions in this notebook.  "
   ]
  },
  {
   "cell_type": "markdown",
   "metadata": {},
   "source": [
    "## The AWARE model"
   ]
  },
  {
   "cell_type": "markdown",
   "metadata": {},
   "source": [
    "AWARE is a consensus-based method development to assess water use in LCA. It was developed by the [WULCA UNEP/SETAC working group](http://www.wulca-waterlca.org/index.html). Its characterization factors represent the relative Available WAter REmaining per area in a watershed, after the demand of humans and aquatic ecosystems has been met. It assesses the potential of water deprivation, to either humans or ecosystems, building on the assumption that the less water remaining available per area, the more likely another user will be deprived \n",
    "\n",
    "For information on the actual Aware model, please refer to the [dedicated website](http://www.wulca-waterlca.org/aware.html) and to the paper for which this notebook is a supplementary information.  "
   ]
  },
  {
   "cell_type": "markdown",
   "metadata": {},
   "source": [
    "## AwareStatic module"
   ]
  },
  {
   "cell_type": "markdown",
   "metadata": {},
   "source": [
    "### Objective"
   ]
  },
  {
   "cell_type": "markdown",
   "metadata": {},
   "source": [
    "The objective of the AwareStatic module is to:  \n",
    "  - import independent parameter values from a formatted Excel file (supplied in the package directory as \"AWARE_base_data.xlsx\")  \n",
    "  - calculate characterization factors for all covered watersheds, both at the monthly level and for three types of annual averages: agricultural use, non-agricultural use, and unspecified use (sometimes refered to as \"unknown use\")  \n",
    "  - output the resulting characterization factors to files. "
   ]
  },
  {
   "cell_type": "markdown",
   "metadata": {},
   "source": [
    "### Input parameters"
   ]
  },
  {
   "cell_type": "markdown",
   "metadata": {},
   "source": [
    "The independent input parameters to the AWARE model are the following:  \n",
    "\n",
    "        Monthly irrigation\n",
    "            Description: irrigation water, per month, per watershed\n",
    "            Unit: m3/month\n",
    "            Location in Excel file: Irrigation\n",
    "            File name once imported: irrigation.pickle\n",
    "            table shape: (11050, 12)\n",
    "\n",
    "        Non-irrigation hwc: electricity, domestic, livestock, manufacturing\n",
    "            Description: non-irrigation uses of water\n",
    "            Unit: m3/year\n",
    "            Location in Excel file: hwc_non_irrigation\n",
    "            File name once imported: electricity.pickle, domestic.pickle,\n",
    "                livestock.pickle, manufacturing.pickle\n",
    "            table shape: 3 x (11050,)\n",
    "\n",
    "        avail_delta\n",
    "            Description: Difference between \"pristine\" natural availability\n",
    "                reported in PastorXNatAvail and natural availability calculated\n",
    "                from \"Actual availability as received from WaterGap - after\n",
    "                human consumption\" (Avail!W:AH) plus HWC.\n",
    "                This should be added to calculated water availability to\n",
    "                get the water availability used for the calculation of EWR\n",
    "            Unit: m3/month\n",
    "            Location in Excel file: avail_delta\n",
    "            File name once imported: avail_delta.pickle\n",
    "            table shape: (11050, 12)\n",
    "\n",
    "        avail_net\n",
    "            Description: Actual availability as received from WaterGap - after human consumption\n",
    "            Unit: m3/month\n",
    "            Location in Excel file: avail_net\n",
    "            File name once imported: avail_net.pickle\n",
    "            table shape: (11050, 12)\n",
    "\n",
    "        pastor\n",
    "            Description: fraction of PRISTINE water availability that should be reserved for environment\n",
    "            Unit: unitless\n",
    "            Location in Excel file: pastor\n",
    "            File name once imported: pastor.pickle\n",
    "            table shape: (11050, 12)\n",
    "\n",
    "        area\n",
    "            Description: area\n",
    "            Unit: m2\n",
    "            Location in Excel file: area\n",
    "            File name once imported: area.pickle\n",
    "            table shape: (11050,)\n"
   ]
  },
  {
   "cell_type": "markdown",
   "metadata": {},
   "source": [
    "The Excel file also contains a \"filters\" sheet which identify watersheds that are excluded from calculations. two such filters exist:  \n",
    "  - Polar filter, which excludes cells from Greenland  \n",
    "  - Pastor filter, which excludes watersheds without data from the Pastor et al. (2014) method (122 cells), representing small coastal cells with no direct overlap  "
   ]
  },
  {
   "cell_type": "markdown",
   "metadata": {},
   "source": [
    "### Using AwareStatic"
   ]
  },
  {
   "cell_type": "markdown",
   "metadata": {},
   "source": [
    "Import the AwareStatic module"
   ]
  },
  {
   "cell_type": "code",
   "execution_count": 1,
   "metadata": {},
   "outputs": [],
   "source": [
    "from aware_cf_calculator import AwareStatic"
   ]
  },
  {
   "cell_type": "markdown",
   "metadata": {},
   "source": [
    "Determine (1) where you want results to be stored and (2) where the Excel file with input parameters is found."
   ]
  },
  {
   "cell_type": "code",
   "execution_count": 2,
   "metadata": {},
   "outputs": [],
   "source": [
    "from pathlib import Path\n",
    "dirpath_for_results = Path(r\"F:/AwareSampleUse\")\n",
    "input_data_filepath = Path(r\"../data/AWARE_base_data.xlsx\") \n",
    "# Note: the excel file does not need to be in the same directory as results."
   ]
  },
  {
   "cell_type": "markdown",
   "metadata": {},
   "source": [
    "Create an AwareStatic object: "
   ]
  },
  {
   "cell_type": "code",
   "execution_count": 3,
   "metadata": {},
   "outputs": [
    {
     "name": "stdout",
     "output_type": "stream",
     "text": [
      "Data needs to be imported.\n",
      "\n",
      "Extracting data from Excel...\n",
      "...area\n",
      "...avail_delta\n",
      "...avail_net\n",
      "...domestic\n",
      "...electricity\n",
      "...irrigation\n",
      "...livestock\n",
      "...manufacturing\n",
      "...pastor\n",
      "...uncertainty\n",
      "...filters\n",
      "\n",
      "Filtering out unwanted basins\n",
      "...area\n",
      "\t shape changed from (11050, 1) to (9707, 1)\n",
      "...avail_delta\n",
      "\t shape changed from (11050, 12) to (9707, 12)\n",
      "...avail_net\n",
      "\t shape changed from (11050, 12) to (9707, 12)\n",
      "...domestic\n",
      "\t shape changed from (11050, 1) to (9707, 1)\n",
      "...electricity\n",
      "\t shape changed from (11050, 1) to (9707, 1)\n",
      "...irrigation\n",
      "\t shape changed from (11050, 12) to (9707, 12)\n",
      "...livestock\n",
      "\t shape changed from (11050, 1) to (9707, 1)\n",
      "...manufacturing\n",
      "\t shape changed from (11050, 1) to (9707, 1)\n",
      "...pastor\n",
      "\t shape changed from (11050, 12) to (9707, 12)\n",
      "...uncertainty\n",
      "\t shape changed from (11050, 7) to (9707, 7)\n",
      "No results were calculated, calculate using `det_calcs` method\n"
     ]
    }
   ],
   "source": [
    "aware_static = AwareStatic(\n",
    "    base_dir_path=dirpath_for_results,\n",
    "    raw_data_fp=input_data_filepath,\n",
    ")"
   ]
  },
  {
   "cell_type": "markdown",
   "metadata": {},
   "source": [
    "This simply extracts the data from the Excel file and applies the Polar and Pastor filters.  \n",
    "\n",
    "To actually calculate the characterization factors, one needs to run the `det_calcs` method."
   ]
  },
  {
   "cell_type": "code",
   "execution_count": 4,
   "metadata": {},
   "outputs": [],
   "source": [
    "aware_static.det_calcs(\n",
    "    lower_bound=0.1, # default lower bound in CF calculation, see documentation on AWARE\n",
    "    upper_bound=100, # default upper bound in CF calculation, see documentation on AWARE,\n",
    "    dump_excel=True, # save Excel files with results\n",
    "    dump_pickle=True # save pandas dataframes with results\n",
    ")"
   ]
  },
  {
   "cell_type": "markdown",
   "metadata": {},
   "source": [
    "This generated Excel files and pandas DataFrames with : \n",
    "  - values for all calculated (intermediate) parameters (e.g. Environmental Water Requirement EWR, Human Water Consumption HWC, etc.).  \n",
    "  - characterization factors (monthly, and three types of annual averages, per watershed)  \n",
    "  \n",
    "These are found in the static_results subdirectory."
   ]
  },
  {
   "cell_type": "markdown",
   "metadata": {},
   "source": [
    "Results can also be querried directly. Results are stored in the `aware_static.det_results` attribute, which is a dictionary with values = pandas dataframes and keys = parameters or cfs. The valid keys are:"
   ]
  },
  {
   "cell_type": "code",
   "execution_count": 5,
   "metadata": {},
   "outputs": [
    {
     "data": {
      "text/plain": [
       "['HWC',\n",
       " 'avail_before_human_consumption',\n",
       " 'pristine',\n",
       " 'EWR',\n",
       " 'total_AMD',\n",
       " 'AMD_per_m2',\n",
       " 'yearly_AMD_per_m2',\n",
       " 'AMD_world',\n",
       " 'AMD_world_over_AMD_i',\n",
       " 'cfs_monthly',\n",
       " 'cfs_average_unknown',\n",
       " 'cfs_average_agri',\n",
       " 'cfs_average_non_agri']"
      ]
     },
     "execution_count": 5,
     "metadata": {},
     "output_type": "execute_result"
    }
   ],
   "source": [
    "list(aware_static.det_results.keys())"
   ]
  },
  {
   "cell_type": "markdown",
   "metadata": {},
   "source": [
    "The syntax for getting results is: "
   ]
  },
  {
   "cell_type": "code",
   "execution_count": 6,
   "metadata": {},
   "outputs": [
    {
     "data": {
      "text/html": [
       "<div>\n",
       "<style scoped>\n",
       "    .dataframe tbody tr th:only-of-type {\n",
       "        vertical-align: middle;\n",
       "    }\n",
       "\n",
       "    .dataframe tbody tr th {\n",
       "        vertical-align: top;\n",
       "    }\n",
       "\n",
       "    .dataframe thead th {\n",
       "        text-align: right;\n",
       "    }\n",
       "</style>\n",
       "<table border=\"1\" class=\"dataframe\">\n",
       "  <thead>\n",
       "    <tr style=\"text-align: right;\">\n",
       "      <th></th>\n",
       "      <th>jan</th>\n",
       "      <th>feb</th>\n",
       "      <th>mar</th>\n",
       "      <th>apr</th>\n",
       "      <th>may</th>\n",
       "      <th>jui</th>\n",
       "      <th>jul</th>\n",
       "      <th>aug</th>\n",
       "      <th>sep</th>\n",
       "      <th>oct</th>\n",
       "      <th>nov</th>\n",
       "      <th>dec</th>\n",
       "    </tr>\n",
       "    <tr>\n",
       "      <th>BAS34S_ID</th>\n",
       "      <th></th>\n",
       "      <th></th>\n",
       "      <th></th>\n",
       "      <th></th>\n",
       "      <th></th>\n",
       "      <th></th>\n",
       "      <th></th>\n",
       "      <th></th>\n",
       "      <th></th>\n",
       "      <th></th>\n",
       "      <th></th>\n",
       "      <th></th>\n",
       "    </tr>\n",
       "  </thead>\n",
       "  <tbody>\n",
       "    <tr>\n",
       "      <th>50275</th>\n",
       "      <td>3.036769e+06</td>\n",
       "      <td>6.609829e+06</td>\n",
       "      <td>1.137086e+07</td>\n",
       "      <td>6.819302e+06</td>\n",
       "      <td>1.950713e+06</td>\n",
       "      <td>6.041004e+05</td>\n",
       "      <td>1.533408e+06</td>\n",
       "      <td>3.323182e+06</td>\n",
       "      <td>2.724087e+06</td>\n",
       "      <td>1.696337e+06</td>\n",
       "      <td>839211.416667</td>\n",
       "      <td>1.842891e+06</td>\n",
       "    </tr>\n",
       "    <tr>\n",
       "      <th>56795</th>\n",
       "      <td>1.962333e+03</td>\n",
       "      <td>1.962333e+03</td>\n",
       "      <td>1.962333e+03</td>\n",
       "      <td>1.962333e+03</td>\n",
       "      <td>1.962333e+03</td>\n",
       "      <td>1.962333e+03</td>\n",
       "      <td>1.962333e+03</td>\n",
       "      <td>1.962333e+03</td>\n",
       "      <td>1.962333e+03</td>\n",
       "      <td>1.962333e+03</td>\n",
       "      <td>1962.333333</td>\n",
       "      <td>1.962333e+03</td>\n",
       "    </tr>\n",
       "    <tr>\n",
       "      <th>18382</th>\n",
       "      <td>6.037924e+05</td>\n",
       "      <td>6.037924e+05</td>\n",
       "      <td>6.037924e+05</td>\n",
       "      <td>6.037924e+05</td>\n",
       "      <td>6.817994e+05</td>\n",
       "      <td>1.022381e+06</td>\n",
       "      <td>1.156363e+06</td>\n",
       "      <td>8.608504e+05</td>\n",
       "      <td>6.370224e+05</td>\n",
       "      <td>6.037924e+05</td>\n",
       "      <td>603792.416667</td>\n",
       "      <td>6.037924e+05</td>\n",
       "    </tr>\n",
       "    <tr>\n",
       "      <th>51881</th>\n",
       "      <td>2.911540e+05</td>\n",
       "      <td>2.233040e+05</td>\n",
       "      <td>4.119720e+05</td>\n",
       "      <td>1.077003e+06</td>\n",
       "      <td>7.801710e+05</td>\n",
       "      <td>3.804100e+05</td>\n",
       "      <td>5.331590e+05</td>\n",
       "      <td>2.479590e+05</td>\n",
       "      <td>2.474110e+05</td>\n",
       "      <td>2.680320e+05</td>\n",
       "      <td>309556.000000</td>\n",
       "      <td>3.563960e+05</td>\n",
       "    </tr>\n",
       "    <tr>\n",
       "      <th>30590</th>\n",
       "      <td>3.875099e+05</td>\n",
       "      <td>3.875099e+05</td>\n",
       "      <td>3.875099e+05</td>\n",
       "      <td>3.875099e+05</td>\n",
       "      <td>3.875099e+05</td>\n",
       "      <td>3.875099e+05</td>\n",
       "      <td>3.875099e+05</td>\n",
       "      <td>3.875099e+05</td>\n",
       "      <td>3.875099e+05</td>\n",
       "      <td>3.875099e+05</td>\n",
       "      <td>387509.916667</td>\n",
       "      <td>3.875099e+05</td>\n",
       "    </tr>\n",
       "  </tbody>\n",
       "</table>\n",
       "</div>"
      ],
      "text/plain": [
       "                    jan           feb           mar           apr  \\\n",
       "BAS34S_ID                                                           \n",
       "50275      3.036769e+06  6.609829e+06  1.137086e+07  6.819302e+06   \n",
       "56795      1.962333e+03  1.962333e+03  1.962333e+03  1.962333e+03   \n",
       "18382      6.037924e+05  6.037924e+05  6.037924e+05  6.037924e+05   \n",
       "51881      2.911540e+05  2.233040e+05  4.119720e+05  1.077003e+06   \n",
       "30590      3.875099e+05  3.875099e+05  3.875099e+05  3.875099e+05   \n",
       "\n",
       "                    may           jui           jul           aug  \\\n",
       "BAS34S_ID                                                           \n",
       "50275      1.950713e+06  6.041004e+05  1.533408e+06  3.323182e+06   \n",
       "56795      1.962333e+03  1.962333e+03  1.962333e+03  1.962333e+03   \n",
       "18382      6.817994e+05  1.022381e+06  1.156363e+06  8.608504e+05   \n",
       "51881      7.801710e+05  3.804100e+05  5.331590e+05  2.479590e+05   \n",
       "30590      3.875099e+05  3.875099e+05  3.875099e+05  3.875099e+05   \n",
       "\n",
       "                    sep           oct            nov           dec  \n",
       "BAS34S_ID                                                           \n",
       "50275      2.724087e+06  1.696337e+06  839211.416667  1.842891e+06  \n",
       "56795      1.962333e+03  1.962333e+03    1962.333333  1.962333e+03  \n",
       "18382      6.370224e+05  6.037924e+05  603792.416667  6.037924e+05  \n",
       "51881      2.474110e+05  2.680320e+05  309556.000000  3.563960e+05  \n",
       "30590      3.875099e+05  3.875099e+05  387509.916667  3.875099e+05  "
      ]
     },
     "execution_count": 6,
     "metadata": {},
     "output_type": "execute_result"
    }
   ],
   "source": [
    "# HWC results for 5 random watersheds, per month\n",
    "aware_static.det_results['HWC'].sample(n=5)"
   ]
  },
  {
   "cell_type": "code",
   "execution_count": 7,
   "metadata": {},
   "outputs": [
    {
     "data": {
      "text/plain": [
       "0.13414225429829035"
      ]
     },
     "execution_count": 7,
     "metadata": {},
     "output_type": "execute_result"
    }
   ],
   "source": [
    "# CF value for watershed 59993, month=January\n",
    "aware_static.det_results['cfs_monthly'].loc[59993, 'jan']"
   ]
  },
  {
   "cell_type": "code",
   "execution_count": 8,
   "metadata": {},
   "outputs": [
    {
     "data": {
      "text/plain": [
       "0.18919279623174604"
      ]
     },
     "execution_count": 8,
     "metadata": {},
     "output_type": "execute_result"
    }
   ],
   "source": [
    "# Annual average CF (agricultural use) for watershed 41064\n",
    "aware_static.det_results['cfs_average_agri'].loc[59993]"
   ]
  },
  {
   "cell_type": "markdown",
   "metadata": {},
   "source": [
    "## AwareStochastic"
   ]
  },
  {
   "cell_type": "markdown",
   "metadata": {},
   "source": [
    "### Objective"
   ]
  },
  {
   "cell_type": "markdown",
   "metadata": {},
   "source": [
    "The AwareStochastic is used to carry out Monte Carlo simulations to produce sets of random CFs. It first generates random samples for all input random variables, and then uses these to calculate CFs. "
   ]
  },
  {
   "cell_type": "markdown",
   "metadata": {},
   "source": [
    "### Using AwareStochastic"
   ]
  },
  {
   "cell_type": "code",
   "execution_count": 9,
   "metadata": {},
   "outputs": [],
   "source": [
    "from aware_cf_calculator import AwareStochastic"
   ]
  },
  {
   "cell_type": "code",
   "execution_count": 10,
   "metadata": {},
   "outputs": [
    {
     "name": "stdout",
     "output_type": "stream",
     "text": [
      "Data already imported\n",
      "Non-CF results already calculated\n",
      "CFs available for ['cfs_0_1_100']\n",
      "Samples need to be generated.\n",
      "\t50 samples taken for avail_delta\n",
      "\t50 samples taken for avail_net\n",
      "\t50 samples taken for domestic\n",
      "\t50 samples taken for electricity\n",
      "\t50 samples taken for irrigation\n",
      "\t50 samples taken for livestock\n",
      "\t50 samples taken for manufacturing\n",
      "\t50 samples taken for pastor\n"
     ]
    }
   ],
   "source": [
    "aware_stochastic = AwareStochastic(\n",
    "    base_dir_path=dirpath_for_results,\n",
    "    sim_name='demo',     # Name of the simulation - many simulations can be carried out with different parameters\n",
    "    consider_certain=[], # Names of parameters to hold static, default is empty list\n",
    "    iterations=50        # Number of iterations for the simulation, small number for this demo\n",
    ")"
   ]
  },
  {
   "cell_type": "markdown",
   "metadata": {},
   "source": [
    "From these sampled data, AwareStichastic calculates AMD results (one per iteration)"
   ]
  },
  {
   "cell_type": "code",
   "execution_count": 11,
   "metadata": {},
   "outputs": [
    {
     "name": "stdout",
     "output_type": "stream",
     "text": [
      "ready to start with  HWC 0 already calculated\n"
     ]
    },
    {
     "name": "stderr",
     "output_type": "stream",
     "text": [
      "0% [##############################] 100% | ETA: 00:00:00\n",
      "Total time elapsed: 00:02:35\n"
     ]
    }
   ],
   "source": [
    "aware_stochastic.calculate_AMD_samples()"
   ]
  },
  {
   "cell_type": "markdown",
   "metadata": {},
   "source": [
    "The AMD results (and intermediate variables such as HWC) are stored \"one file per iteration, multiple watersheds\". The method `aggregate_results` flips this, saving results \"one file per watershed\" (or watershed-month), with all samples stored in the same order in each file."
   ]
  },
  {
   "cell_type": "code",
   "execution_count": 13,
   "metadata": {},
   "outputs": [
    {
     "name": "stdout",
     "output_type": "stream",
     "text": [
      "116484 to treat for HWC\n"
     ]
    },
    {
     "name": "stderr",
     "output_type": "stream",
     "text": [
      "0% [##############################] 100% | ETA: 00:00:00\n",
      "Total time elapsed: 00:29:37\n"
     ]
    },
    {
     "name": "stdout",
     "output_type": "stream",
     "text": [
      "Aggregating AMD_world\n",
      "116484 to treat for AMD_world_over_AMD_i\n"
     ]
    },
    {
     "name": "stderr",
     "output_type": "stream",
     "text": [
      "0% [##############################] 100% | ETA: 00:00:00\n",
      "Total time elapsed: 00:40:05\n"
     ]
    },
    {
     "name": "stdout",
     "output_type": "stream",
     "text": [
      "116484 to treat for irrigation\n"
     ]
    },
    {
     "name": "stderr",
     "output_type": "stream",
     "text": [
      "0% [##############################] 100% | ETA: 00:00:00\n",
      "Total time elapsed: 00:30:32\n"
     ]
    }
   ],
   "source": [
    "aware_stochastic.aggregate_results()"
   ]
  },
  {
   "cell_type": "markdown",
   "metadata": {},
   "source": [
    "Next is the actual calculation of CFs. This can be done for different cut-off values (default is 0.1 and 100 for lower and upper bound on the AMD_world/AMD ratio)."
   ]
  },
  {
   "cell_type": "code",
   "execution_count": 14,
   "metadata": {},
   "outputs": [
    {
     "name": "stderr",
     "output_type": "stream",
     "text": [
      "0% [##############################] 100% | ETA: 00:00:00\n",
      "Total time elapsed: 00:42:03\n"
     ]
    }
   ],
   "source": [
    "aware_stochastic.calculate_all_single_month_cfs_stochastic(lower_bound=0.1, upper_bound=100)"
   ]
  },
  {
   "cell_type": "code",
   "execution_count": 15,
   "metadata": {},
   "outputs": [
    {
     "name": "stdout",
     "output_type": "stream",
     "text": [
      "Will generate average cfs for 9707 basins\n"
     ]
    },
    {
     "name": "stderr",
     "output_type": "stream",
     "text": [
      "0% [##############################] 100% | ETA: 00:00:00\n",
      "Total time elapsed: 00:17:43\n"
     ]
    }
   ],
   "source": [
    "aware_stochastic.calculate_cfs_average(lower_bound=0.1, upper_bound=100)"
   ]
  },
  {
   "cell_type": "markdown",
   "metadata": {},
   "source": [
    "The resulting numpy arrays are stored in the directory `AwareSampleUse/stochastic_results/demo/cfs/0_1_100`  \n",
    "The numpy arrays can be converted to the more well-known `csv` format:"
   ]
  },
  {
   "cell_type": "code",
   "execution_count": 16,
   "metadata": {},
   "outputs": [],
   "source": [
    "aware_stochastic.convert_dfs_to_csv(lower_bound=0.1, upper_bound=100)"
   ]
  },
  {
   "cell_type": "markdown",
   "metadata": {},
   "source": [
    "## AwareAnalyser"
   ]
  },
  {
   "cell_type": "markdown",
   "metadata": {},
   "source": [
    "### Objective"
   ]
  },
  {
   "cell_type": "markdown",
   "metadata": {},
   "source": [
    "The AwareAnalyser module has an ad hoc suite of methods that allow an analysis of results.  \n",
    "Some of these methods were used in the analyses in the paper.  \n",
    "It is beyond the scope of this notebook to go into detail in all the types of analyses, but the reader is invited to get to know them and expand upon them.  \n",
    "A sample use of the module is presented below."
   ]
  },
  {
   "cell_type": "markdown",
   "metadata": {},
   "source": [
    "### Sample use of the AwareAnalyser methods"
   ]
  },
  {
   "cell_type": "markdown",
   "metadata": {},
   "source": [
    "#### Instantiating the AwareAnalyser object"
   ]
  },
  {
   "cell_type": "code",
   "execution_count": 17,
   "metadata": {},
   "outputs": [],
   "source": [
    "from aware_cf_calculator import AwareAnalyser"
   ]
  },
  {
   "cell_type": "code",
   "execution_count": 18,
   "metadata": {},
   "outputs": [
    {
     "name": "stdout",
     "output_type": "stream",
     "text": [
      "Data already imported\n",
      "Non-CF results already calculated\n",
      "CFs available for ['cfs_0_1_100']\n",
      "Samples already exist.\n"
     ]
    }
   ],
   "source": [
    "aware_analyser = AwareAnalyser(base_dir_path=dirpath_for_results, sim_name=\"demo\")"
   ]
  },
  {
   "cell_type": "markdown",
   "metadata": {},
   "source": [
    "#### Graphing results for a watershed-month"
   ]
  },
  {
   "cell_type": "markdown",
   "metadata": {},
   "source": [
    "Sample method: plot histograms for key parameters and cfs for a given watershed/month  \n",
    "Note that the results are for 50 iterations only, which of course is not really sufficient to produce smooth distributions."
   ]
  },
  {
   "cell_type": "code",
   "execution_count": 19,
   "metadata": {},
   "outputs": [],
   "source": [
    "%matplotlib inline"
   ]
  },
  {
   "cell_type": "code",
   "execution_count": 20,
   "metadata": {},
   "outputs": [
    {
     "name": "stdout",
     "output_type": "stream",
     "text": [
      "Could not get electricity for basin 59993 and month jan\n"
     ]
    },
    {
     "data": {
      "image/png": "[encoded data removed]",
      "text/plain": [
       "<Figure size 576x756 with 18 Axes>"
      ]
     },
     "metadata": {
      "needs_background": "light"
     },
     "output_type": "display_data"
    }
   ],
   "source": [
    "aware_analyser.plot_all_hists_given_basin_and_month(\n",
    "    basin=59993,\n",
    "    month='jan',\n",
    "    lower_bound=0.1,\n",
    "    upper_bound=100,\n",
    "    return_graph=True,\n",
    "    save_graph=False\n",
    ");"
   ]
  },
  {
   "cell_type": "markdown",
   "metadata": {},
   "source": [
    "#### Getting some stats"
   ]
  },
  {
   "cell_type": "code",
   "execution_count": 22,
   "metadata": {},
   "outputs": [
    {
     "name": "stdout",
     "output_type": "stream",
     "text": [
      "Looking into months: ['jan', 'jul']\n"
     ]
    },
    {
     "name": "stderr",
     "output_type": "stream",
     "text": [
      "0% [####################] 100% | ETA: 00:00:00\n",
      "Total time elapsed: 00:00:00\n",
      "0% [##########] 100% | ETA: 00:00:00\n",
      "Total time elapsed: 00:00:00\n"
     ]
    }
   ],
   "source": [
    "# Let's get a random list of 10 watersheds\n",
    "import random\n",
    "random_watersheds = random.sample(aware_analyser.basins, 10)\n",
    "\n",
    "# And then let's generate some statistics for the months of January and July for these months\n",
    "cf_stats = aware_analyser.get_full_stats(\n",
    "    result_type='monthly_cf_all', # type aware_analyser.valid_result_types for a list of all result types\n",
    "    basins=random_watersheds,     # use 'all' to generate stats for all watersheds. Be ready to wait a while...\n",
    "    months=['jan', 'jul'],         # use 'all' to generate stats for all months\n",
    "    lower_bound=0.1, upper_bound=100,\n",
    "    aggregate_by_static=False, \n",
    "    augment_with_dispersion=True,\n",
    "    iterations_limiter=None\n",
    ")"
   ]
  },
  {
   "cell_type": "code",
   "execution_count": 23,
   "metadata": {},
   "outputs": [
    {
     "data": {
      "text/html": [
       "<div>\n",
       "<style scoped>\n",
       "    .dataframe tbody tr th:only-of-type {\n",
       "        vertical-align: middle;\n",
       "    }\n",
       "\n",
       "    .dataframe tbody tr th {\n",
       "        vertical-align: top;\n",
       "    }\n",
       "\n",
       "    .dataframe thead th {\n",
       "        text-align: right;\n",
       "    }\n",
       "</style>\n",
       "<table border=\"1\" class=\"dataframe\">\n",
       "  <thead>\n",
       "    <tr style=\"text-align: right;\">\n",
       "      <th></th>\n",
       "      <th>2.5%ile</th>\n",
       "      <th>Q1</th>\n",
       "      <th>Q3</th>\n",
       "      <th>97.5%ile</th>\n",
       "      <th>sd</th>\n",
       "      <th>BAS34S_ID</th>\n",
       "      <th>month</th>\n",
       "      <th>static</th>\n",
       "      <th>IQR</th>\n",
       "      <th>IQR/static</th>\n",
       "      <th>IPR-95%</th>\n",
       "      <th>IPR-95%/static</th>\n",
       "      <th>sd/static</th>\n",
       "    </tr>\n",
       "  </thead>\n",
       "  <tbody>\n",
       "    <tr>\n",
       "      <th>0</th>\n",
       "      <td>0.992196</td>\n",
       "      <td>1.440752</td>\n",
       "      <td>2.358727</td>\n",
       "      <td>4.526920</td>\n",
       "      <td>0.898528</td>\n",
       "      <td>17542.0</td>\n",
       "      <td>jan</td>\n",
       "      <td>1.642388</td>\n",
       "      <td>0.917974</td>\n",
       "      <td>0.558926</td>\n",
       "      <td>3.534724</td>\n",
       "      <td>2.152185</td>\n",
       "      <td>0.547086</td>\n",
       "    </tr>\n",
       "    <tr>\n",
       "      <th>1</th>\n",
       "      <td>0.635633</td>\n",
       "      <td>1.002951</td>\n",
       "      <td>1.554876</td>\n",
       "      <td>2.246262</td>\n",
       "      <td>0.458134</td>\n",
       "      <td>17542.0</td>\n",
       "      <td>jul</td>\n",
       "      <td>1.183079</td>\n",
       "      <td>0.551925</td>\n",
       "      <td>0.466516</td>\n",
       "      <td>1.610629</td>\n",
       "      <td>1.361387</td>\n",
       "      <td>0.387239</td>\n",
       "    </tr>\n",
       "    <tr>\n",
       "      <th>2</th>\n",
       "      <td>0.950556</td>\n",
       "      <td>1.572963</td>\n",
       "      <td>3.181170</td>\n",
       "      <td>5.101219</td>\n",
       "      <td>1.149089</td>\n",
       "      <td>66077.0</td>\n",
       "      <td>jan</td>\n",
       "      <td>2.662555</td>\n",
       "      <td>1.608207</td>\n",
       "      <td>0.604009</td>\n",
       "      <td>4.150663</td>\n",
       "      <td>1.558902</td>\n",
       "      <td>0.431574</td>\n",
       "    </tr>\n",
       "    <tr>\n",
       "      <th>3</th>\n",
       "      <td>0.295070</td>\n",
       "      <td>0.578697</td>\n",
       "      <td>1.175703</td>\n",
       "      <td>2.258854</td>\n",
       "      <td>0.557602</td>\n",
       "      <td>66077.0</td>\n",
       "      <td>jul</td>\n",
       "      <td>0.840060</td>\n",
       "      <td>0.597006</td>\n",
       "      <td>0.710670</td>\n",
       "      <td>1.963784</td>\n",
       "      <td>2.337671</td>\n",
       "      <td>0.663765</td>\n",
       "    </tr>\n",
       "    <tr>\n",
       "      <th>4</th>\n",
       "      <td>0.739430</td>\n",
       "      <td>0.864442</td>\n",
       "      <td>1.283841</td>\n",
       "      <td>1.881825</td>\n",
       "      <td>0.401336</td>\n",
       "      <td>18243.0</td>\n",
       "      <td>jan</td>\n",
       "      <td>0.886636</td>\n",
       "      <td>0.419399</td>\n",
       "      <td>0.473023</td>\n",
       "      <td>1.142395</td>\n",
       "      <td>1.288461</td>\n",
       "      <td>0.452650</td>\n",
       "    </tr>\n",
       "    <tr>\n",
       "      <th>5</th>\n",
       "      <td>0.492240</td>\n",
       "      <td>0.569568</td>\n",
       "      <td>0.667061</td>\n",
       "      <td>0.707952</td>\n",
       "      <td>0.067044</td>\n",
       "      <td>18243.0</td>\n",
       "      <td>jul</td>\n",
       "      <td>0.639258</td>\n",
       "      <td>0.097493</td>\n",
       "      <td>0.152509</td>\n",
       "      <td>0.215712</td>\n",
       "      <td>0.337441</td>\n",
       "      <td>0.104878</td>\n",
       "    </tr>\n",
       "    <tr>\n",
       "      <th>6</th>\n",
       "      <td>4.290778</td>\n",
       "      <td>5.685627</td>\n",
       "      <td>7.869035</td>\n",
       "      <td>13.344414</td>\n",
       "      <td>2.324287</td>\n",
       "      <td>20413.0</td>\n",
       "      <td>jan</td>\n",
       "      <td>5.911790</td>\n",
       "      <td>2.183408</td>\n",
       "      <td>0.369331</td>\n",
       "      <td>9.053636</td>\n",
       "      <td>1.531454</td>\n",
       "      <td>0.393161</td>\n",
       "    </tr>\n",
       "    <tr>\n",
       "      <th>7</th>\n",
       "      <td>1.550348</td>\n",
       "      <td>1.812003</td>\n",
       "      <td>2.128878</td>\n",
       "      <td>2.307492</td>\n",
       "      <td>0.214564</td>\n",
       "      <td>20413.0</td>\n",
       "      <td>jul</td>\n",
       "      <td>2.088516</td>\n",
       "      <td>0.316874</td>\n",
       "      <td>0.151722</td>\n",
       "      <td>0.757144</td>\n",
       "      <td>0.362527</td>\n",
       "      <td>0.102735</td>\n",
       "    </tr>\n",
       "    <tr>\n",
       "      <th>8</th>\n",
       "      <td>0.181684</td>\n",
       "      <td>0.221383</td>\n",
       "      <td>0.252863</td>\n",
       "      <td>0.287936</td>\n",
       "      <td>0.026830</td>\n",
       "      <td>66822.0</td>\n",
       "      <td>jan</td>\n",
       "      <td>0.251726</td>\n",
       "      <td>0.031480</td>\n",
       "      <td>0.125057</td>\n",
       "      <td>0.106252</td>\n",
       "      <td>0.422094</td>\n",
       "      <td>0.106582</td>\n",
       "    </tr>\n",
       "    <tr>\n",
       "      <th>9</th>\n",
       "      <td>0.152168</td>\n",
       "      <td>0.179584</td>\n",
       "      <td>0.207627</td>\n",
       "      <td>0.239423</td>\n",
       "      <td>0.022900</td>\n",
       "      <td>66822.0</td>\n",
       "      <td>jul</td>\n",
       "      <td>0.207173</td>\n",
       "      <td>0.028043</td>\n",
       "      <td>0.135361</td>\n",
       "      <td>0.087255</td>\n",
       "      <td>0.421167</td>\n",
       "      <td>0.110538</td>\n",
       "    </tr>\n",
       "    <tr>\n",
       "      <th>10</th>\n",
       "      <td>0.237177</td>\n",
       "      <td>0.288883</td>\n",
       "      <td>0.331041</td>\n",
       "      <td>0.383355</td>\n",
       "      <td>0.039082</td>\n",
       "      <td>56962.0</td>\n",
       "      <td>jan</td>\n",
       "      <td>0.320213</td>\n",
       "      <td>0.042158</td>\n",
       "      <td>0.131655</td>\n",
       "      <td>0.146177</td>\n",
       "      <td>0.456500</td>\n",
       "      <td>0.122049</td>\n",
       "    </tr>\n",
       "    <tr>\n",
       "      <th>11</th>\n",
       "      <td>3.252057</td>\n",
       "      <td>3.838276</td>\n",
       "      <td>7.997248</td>\n",
       "      <td>88.948833</td>\n",
       "      <td>19.630708</td>\n",
       "      <td>56962.0</td>\n",
       "      <td>jul</td>\n",
       "      <td>3.848114</td>\n",
       "      <td>4.158972</td>\n",
       "      <td>1.080782</td>\n",
       "      <td>85.696776</td>\n",
       "      <td>22.269815</td>\n",
       "      <td>5.101385</td>\n",
       "    </tr>\n",
       "    <tr>\n",
       "      <th>12</th>\n",
       "      <td>0.592646</td>\n",
       "      <td>0.764556</td>\n",
       "      <td>0.897255</td>\n",
       "      <td>1.057522</td>\n",
       "      <td>0.118915</td>\n",
       "      <td>66746.0</td>\n",
       "      <td>jan</td>\n",
       "      <td>0.866994</td>\n",
       "      <td>0.132699</td>\n",
       "      <td>0.153056</td>\n",
       "      <td>0.464876</td>\n",
       "      <td>0.536193</td>\n",
       "      <td>0.137158</td>\n",
       "    </tr>\n",
       "    <tr>\n",
       "      <th>13</th>\n",
       "      <td>0.624137</td>\n",
       "      <td>0.696924</td>\n",
       "      <td>0.855093</td>\n",
       "      <td>0.926928</td>\n",
       "      <td>0.092320</td>\n",
       "      <td>66746.0</td>\n",
       "      <td>jul</td>\n",
       "      <td>0.827596</td>\n",
       "      <td>0.158169</td>\n",
       "      <td>0.191118</td>\n",
       "      <td>0.302791</td>\n",
       "      <td>0.365868</td>\n",
       "      <td>0.111552</td>\n",
       "    </tr>\n",
       "    <tr>\n",
       "      <th>14</th>\n",
       "      <td>3.292170</td>\n",
       "      <td>3.996916</td>\n",
       "      <td>7.061014</td>\n",
       "      <td>16.613248</td>\n",
       "      <td>3.288347</td>\n",
       "      <td>12160.0</td>\n",
       "      <td>jan</td>\n",
       "      <td>4.293404</td>\n",
       "      <td>3.064097</td>\n",
       "      <td>0.713676</td>\n",
       "      <td>13.321078</td>\n",
       "      <td>3.102685</td>\n",
       "      <td>0.765907</td>\n",
       "    </tr>\n",
       "    <tr>\n",
       "      <th>15</th>\n",
       "      <td>0.125249</td>\n",
       "      <td>0.152188</td>\n",
       "      <td>0.202046</td>\n",
       "      <td>0.249788</td>\n",
       "      <td>0.034540</td>\n",
       "      <td>12160.0</td>\n",
       "      <td>jul</td>\n",
       "      <td>0.198947</td>\n",
       "      <td>0.049858</td>\n",
       "      <td>0.250610</td>\n",
       "      <td>0.124539</td>\n",
       "      <td>0.625991</td>\n",
       "      <td>0.173612</td>\n",
       "    </tr>\n",
       "    <tr>\n",
       "      <th>16</th>\n",
       "      <td>7.719633</td>\n",
       "      <td>8.914911</td>\n",
       "      <td>10.269386</td>\n",
       "      <td>12.649152</td>\n",
       "      <td>1.144771</td>\n",
       "      <td>66252.0</td>\n",
       "      <td>jan</td>\n",
       "      <td>10.357424</td>\n",
       "      <td>1.354475</td>\n",
       "      <td>0.130773</td>\n",
       "      <td>4.929519</td>\n",
       "      <td>0.475941</td>\n",
       "      <td>0.110527</td>\n",
       "    </tr>\n",
       "    <tr>\n",
       "      <th>17</th>\n",
       "      <td>1.156190</td>\n",
       "      <td>1.374864</td>\n",
       "      <td>1.544196</td>\n",
       "      <td>1.828807</td>\n",
       "      <td>0.180973</td>\n",
       "      <td>66252.0</td>\n",
       "      <td>jul</td>\n",
       "      <td>1.587766</td>\n",
       "      <td>0.169332</td>\n",
       "      <td>0.106648</td>\n",
       "      <td>0.672618</td>\n",
       "      <td>0.423625</td>\n",
       "      <td>0.113979</td>\n",
       "    </tr>\n",
       "    <tr>\n",
       "      <th>18</th>\n",
       "      <td>52.917721</td>\n",
       "      <td>76.581537</td>\n",
       "      <td>100.000000</td>\n",
       "      <td>100.000000</td>\n",
       "      <td>16.003064</td>\n",
       "      <td>2784.0</td>\n",
       "      <td>jan</td>\n",
       "      <td>94.826881</td>\n",
       "      <td>23.418463</td>\n",
       "      <td>0.246960</td>\n",
       "      <td>47.082279</td>\n",
       "      <td>0.496508</td>\n",
       "      <td>0.168761</td>\n",
       "    </tr>\n",
       "    <tr>\n",
       "      <th>19</th>\n",
       "      <td>0.410571</td>\n",
       "      <td>0.634390</td>\n",
       "      <td>0.903561</td>\n",
       "      <td>1.902803</td>\n",
       "      <td>0.389034</td>\n",
       "      <td>2784.0</td>\n",
       "      <td>jul</td>\n",
       "      <td>0.890382</td>\n",
       "      <td>0.269171</td>\n",
       "      <td>0.302310</td>\n",
       "      <td>1.492232</td>\n",
       "      <td>1.675946</td>\n",
       "      <td>0.436929</td>\n",
       "    </tr>\n",
       "  </tbody>\n",
       "</table>\n",
       "</div>"
      ],
      "text/plain": [
       "      2.5%ile         Q1          Q3    97.5%ile         sd  BAS34S_ID month  \\\n",
       "0    0.992196   1.440752    2.358727    4.526920   0.898528    17542.0   jan   \n",
       "1    0.635633   1.002951    1.554876    2.246262   0.458134    17542.0   jul   \n",
       "2    0.950556   1.572963    3.181170    5.101219   1.149089    66077.0   jan   \n",
       "3    0.295070   0.578697    1.175703    2.258854   0.557602    66077.0   jul   \n",
       "4    0.739430   0.864442    1.283841    1.881825   0.401336    18243.0   jan   \n",
       "5    0.492240   0.569568    0.667061    0.707952   0.067044    18243.0   jul   \n",
       "6    4.290778   5.685627    7.869035   13.344414   2.324287    20413.0   jan   \n",
       "7    1.550348   1.812003    2.128878    2.307492   0.214564    20413.0   jul   \n",
       "8    0.181684   0.221383    0.252863    0.287936   0.026830    66822.0   jan   \n",
       "9    0.152168   0.179584    0.207627    0.239423   0.022900    66822.0   jul   \n",
       "10   0.237177   0.288883    0.331041    0.383355   0.039082    56962.0   jan   \n",
       "11   3.252057   3.838276    7.997248   88.948833  19.630708    56962.0   jul   \n",
       "12   0.592646   0.764556    0.897255    1.057522   0.118915    66746.0   jan   \n",
       "13   0.624137   0.696924    0.855093    0.926928   0.092320    66746.0   jul   \n",
       "14   3.292170   3.996916    7.061014   16.613248   3.288347    12160.0   jan   \n",
       "15   0.125249   0.152188    0.202046    0.249788   0.034540    12160.0   jul   \n",
       "16   7.719633   8.914911   10.269386   12.649152   1.144771    66252.0   jan   \n",
       "17   1.156190   1.374864    1.544196    1.828807   0.180973    66252.0   jul   \n",
       "18  52.917721  76.581537  100.000000  100.000000  16.003064     2784.0   jan   \n",
       "19   0.410571   0.634390    0.903561    1.902803   0.389034     2784.0   jul   \n",
       "\n",
       "       static        IQR  IQR/static    IPR-95%  IPR-95%/static  sd/static  \n",
       "0    1.642388   0.917974    0.558926   3.534724        2.152185   0.547086  \n",
       "1    1.183079   0.551925    0.466516   1.610629        1.361387   0.387239  \n",
       "2    2.662555   1.608207    0.604009   4.150663        1.558902   0.431574  \n",
       "3    0.840060   0.597006    0.710670   1.963784        2.337671   0.663765  \n",
       "4    0.886636   0.419399    0.473023   1.142395        1.288461   0.452650  \n",
       "5    0.639258   0.097493    0.152509   0.215712        0.337441   0.104878  \n",
       "6    5.911790   2.183408    0.369331   9.053636        1.531454   0.393161  \n",
       "7    2.088516   0.316874    0.151722   0.757144        0.362527   0.102735  \n",
       "8    0.251726   0.031480    0.125057   0.106252        0.422094   0.106582  \n",
       "9    0.207173   0.028043    0.135361   0.087255        0.421167   0.110538  \n",
       "10   0.320213   0.042158    0.131655   0.146177        0.456500   0.122049  \n",
       "11   3.848114   4.158972    1.080782  85.696776       22.269815   5.101385  \n",
       "12   0.866994   0.132699    0.153056   0.464876        0.536193   0.137158  \n",
       "13   0.827596   0.158169    0.191118   0.302791        0.365868   0.111552  \n",
       "14   4.293404   3.064097    0.713676  13.321078        3.102685   0.765907  \n",
       "15   0.198947   0.049858    0.250610   0.124539        0.625991   0.173612  \n",
       "16  10.357424   1.354475    0.130773   4.929519        0.475941   0.110527  \n",
       "17   1.587766   0.169332    0.106648   0.672618        0.423625   0.113979  \n",
       "18  94.826881  23.418463    0.246960  47.082279        0.496508   0.168761  \n",
       "19   0.890382   0.269171    0.302310   1.492232        1.675946   0.436929  "
      ]
     },
     "execution_count": 23,
     "metadata": {},
     "output_type": "execute_result"
    }
   ],
   "source": [
    "cf_stats"
   ]
  }
 ],
 "metadata": {
  "kernelspec": {
   "display_name": "Python 3",
   "language": "python",
   "name": "python3"
  },
  "language_info": {
   "codemirror_mode": {
    "name": "ipython",
    "version": 3
   },
   "file_extension": ".py",
   "mimetype": "text/x-python",
   "name": "python",
   "nbconvert_exporter": "python",
   "pygments_lexer": "ipython3",
   "version": "3.7.3"
  },
  "toc": {
   "base_numbering": 1,
   "nav_menu": {},
   "number_sections": true,
   "sideBar": true,
   "skip_h1_title": true,
   "title_cell": "Table of Contents",
   "title_sidebar": "Contents",
   "toc_cell": true,
   "toc_position": {},
   "toc_section_display": true,
   "toc_window_display": true
  },
  "varInspector": {
   "cols": {
    "lenName": 16,
    "lenType": 16,
    "lenVar": 40
   },
   "kernels_config": {
    "python": {
     "delete_cmd_postfix": "",
     "delete_cmd_prefix": "del ",
     "library": "var_list.py",
     "varRefreshCmd": "print(var_dic_list())"
    },
    "r": {
     "delete_cmd_postfix": ") ",
     "delete_cmd_prefix": "rm(",
     "library": "var_list.r",
     "varRefreshCmd": "cat(var_dic_list()) "
    }
   },
   "types_to_exclude": [
    "module",
    "function",
    "builtin_function_or_method",
    "instance",
    "_Feature"
   ],
   "window_display": false
  }
 },
 "nbformat": 4,
 "nbformat_minor": 2
}
