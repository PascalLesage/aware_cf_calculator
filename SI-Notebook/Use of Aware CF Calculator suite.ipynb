{
 "cells": [
  {
   "cell_type": "markdown",
   "metadata": {},
   "source": [
    "# Sample use of the Aware python modules\n",
    "\n",
    "SI provided with the paper \"Quantifying uncertainty for AWARE characterization factors\"\n",
    "\n",
    "**Paper authors:**\n",
    "  - Anne-Marie Boulay (1, 2)\n",
    "  - Pascal Lesage (1) \n",
    "  - Stephan Pfister* (3)\n",
    "  - Ben Amor (2)\n",
    "\n",
    "**Code and notebook author:**\n",
    "  - Pascal Lesage** (1) \n",
    "\n",
    "1: CIRAIG, Polytechnique Montreal, Canada  \n",
    "2: LIRIDE, Sherbrooke University, Canada  \n",
    "3: ETH Zurich, Switzerland\n",
    "\n",
    "\\* Corresponding author for paper (stephan.pfister@ifu.baug.ethz.ch)  \n",
    "\\** Corresponding author for code and notebook (pascal.lesage@polymtl.ca)"
   ]
  },
  {
   "cell_type": "markdown",
   "metadata": {
    "toc": true
   },
   "source": [
    "<h1>Table of Contents<span class=\"tocSkip\"></span></h1>\n",
    "<div class=\"toc\"><ul class=\"toc-item\"><li><span><a href=\"#Objective-of-this-Notebook\" data-toc-modified-id=\"Objective-of-this-Notebook-1\"><span class=\"toc-item-num\">1&nbsp;&nbsp;</span>Objective of this Notebook</a></span></li><li><span><a href=\"#The-AWARE-model\" data-toc-modified-id=\"The-AWARE-model-2\"><span class=\"toc-item-num\">2&nbsp;&nbsp;</span>The AWARE model</a></span></li><li><span><a href=\"#AwareStatic-module\" data-toc-modified-id=\"AwareStatic-module-3\"><span class=\"toc-item-num\">3&nbsp;&nbsp;</span>AwareStatic module</a></span><ul class=\"toc-item\"><li><span><a href=\"#Objective\" data-toc-modified-id=\"Objective-3.1\"><span class=\"toc-item-num\">3.1&nbsp;&nbsp;</span>Objective</a></span></li><li><span><a href=\"#Input-parameters\" data-toc-modified-id=\"Input-parameters-3.2\"><span class=\"toc-item-num\">3.2&nbsp;&nbsp;</span>Input parameters</a></span></li><li><span><a href=\"#Using-AwareStatic\" data-toc-modified-id=\"Using-AwareStatic-3.3\"><span class=\"toc-item-num\">3.3&nbsp;&nbsp;</span>Using AwareStatic</a></span></li></ul></li><li><span><a href=\"#AwareStochastic\" data-toc-modified-id=\"AwareStochastic-4\"><span class=\"toc-item-num\">4&nbsp;&nbsp;</span>AwareStochastic</a></span><ul class=\"toc-item\"><li><span><a href=\"#Objective\" data-toc-modified-id=\"Objective-4.1\"><span class=\"toc-item-num\">4.1&nbsp;&nbsp;</span>Objective</a></span></li><li><span><a href=\"#Using-AwareStochastic\" data-toc-modified-id=\"Using-AwareStochastic-4.2\"><span class=\"toc-item-num\">4.2&nbsp;&nbsp;</span>Using AwareStochastic</a></span></li></ul></li><li><span><a href=\"#AwareAnalyser\" data-toc-modified-id=\"AwareAnalyser-5\"><span class=\"toc-item-num\">5&nbsp;&nbsp;</span>AwareAnalyser</a></span><ul class=\"toc-item\"><li><span><a href=\"#Objective\" data-toc-modified-id=\"Objective-5.1\"><span class=\"toc-item-num\">5.1&nbsp;&nbsp;</span>Objective</a></span></li><li><span><a href=\"#Sample-use-of-the-AwareAnalyser-methods\" data-toc-modified-id=\"Sample-use-of-the-AwareAnalyser-methods-5.2\"><span class=\"toc-item-num\">5.2&nbsp;&nbsp;</span>Sample use of the AwareAnalyser methods</a></span><ul class=\"toc-item\"><li><span><a href=\"#Instantiating-the-AwareAnalyser-object\" data-toc-modified-id=\"Instantiating-the-AwareAnalyser-object-5.2.1\"><span class=\"toc-item-num\">5.2.1&nbsp;&nbsp;</span>Instantiating the AwareAnalyser object</a></span></li><li><span><a href=\"#Graphing-results-for-a-watershed-month\" data-toc-modified-id=\"Graphing-results-for-a-watershed-month-5.2.2\"><span class=\"toc-item-num\">5.2.2&nbsp;&nbsp;</span>Graphing results for a watershed-month</a></span></li><li><span><a href=\"#Getting-some-stats\" data-toc-modified-id=\"Getting-some-stats-5.2.3\"><span class=\"toc-item-num\">5.2.3&nbsp;&nbsp;</span>Getting some stats</a></span></li></ul></li></ul></li></ul></div>"
   ]
  },
  {
   "cell_type": "markdown",
   "metadata": {},
   "source": [
    "## Objective of this Notebook"
   ]
  },
  {
   "cell_type": "markdown",
   "metadata": {},
   "source": [
    "An \"Aware\" module, with three classes (AwareStatic, AwareStochastic, AwareAnalysis) were coded to easily:\n",
    "\n",
    "  - Import and transform in put parameter data to the Aware model  \n",
    "  - Carry out calculations of characterization factors  \n",
    "  - Carry out Monte Carlo simulations to produce arrays of characterization factors  \n",
    "  - Retrieve results  \n",
    "  - Carry out analyses  \n",
    "  \n",
    "The code can be downloaded [here](https://github.com/PascalLesage/aware)  \n",
    "\n",
    "To install and use the package, you must:  \n",
    "  - Download the package [here](XXX)  \n",
    "  - [Install python](https://www.python.org/downloads/). \n",
    "  - Via your command line, navigate to the directory where the package was downloaded  \n",
    "  - Type `python setup aware_cf_calculator`  \n",
    "  \n",
    "To use the package, follow the instructions in this notebook.  "
   ]
  },
  {
   "cell_type": "markdown",
   "metadata": {},
   "source": [
    "## The AWARE model"
   ]
  },
  {
   "cell_type": "markdown",
   "metadata": {},
   "source": [
    "AWARE is a consensus-based method development to assess water use in LCA. It was developed by the [WULCA UNEP/SETAC working group](http://www.wulca-waterlca.org/index.html). Its characterization factors represent the relative Available WAter REmaining per area in a watershed, after the demand of humans and aquatic ecosystems has been met. It assesses the potential of water deprivation, to either humans or ecosystems, building on the assumption that the less water remaining available per area, the more likely another user will be deprived \n",
    "\n",
    "For information on the actual Aware model, please refer to the [dedicated website](http://www.wulca-waterlca.org/aware.html) and to the paper for which this notebook is a supplementary information.  "
   ]
  },
  {
   "cell_type": "markdown",
   "metadata": {},
   "source": [
    "## AwareStatic module"
   ]
  },
  {
   "cell_type": "markdown",
   "metadata": {},
   "source": [
    "### Objective"
   ]
  },
  {
   "cell_type": "markdown",
   "metadata": {},
   "source": [
    "The objective of the AwareStatic module is to:  \n",
    "  - import independent parameter values from a formatted Excel file (supplied in the package directory as \"AWARE_base_data.xlsx\")  \n",
    "  - calculate characterization factors for all covered watersheds, both at the monthly level and for three types of annual averages: agricultural use, non-agricultural use, and unspecified use (sometimes refered to as \"unknown use\")  \n",
    "  - output the resulting characterization factors to files. "
   ]
  },
  {
   "cell_type": "markdown",
   "metadata": {},
   "source": [
    "### Input parameters"
   ]
  },
  {
   "cell_type": "markdown",
   "metadata": {},
   "source": [
    "The independent input parameters to the AWARE model are the following:  \n",
    "\n",
    "        Monthly irrigation\n",
    "            Description: irrigation water, per month, per watershed\n",
    "            Unit: m3/month\n",
    "            Location in Excel file: Irrigation\n",
    "            File name once imported: irrigation.pickle\n",
    "            table shape: (11050, 12)\n",
    "\n",
    "        Non-irrigation hwc: electricity, domestic, livestock, manufacturing\n",
    "            Description: non-irrigation uses of water\n",
    "            Unit: m3/year\n",
    "            Location in Excel file: hwc_non_irrigation\n",
    "            File name once imported: electricity.pickle, domestic.pickle,\n",
    "                livestock.pickle, manufacturing.pickle\n",
    "            table shape: 3 x (11050,)\n",
    "\n",
    "        avail_delta\n",
    "            Description: Difference between \"pristine\" natural availability\n",
    "                reported in PastorXNatAvail and natural availability calculated\n",
    "                from \"Actual availability as received from WaterGap - after\n",
    "                human consumption\" (Avail!W:AH) plus HWC.\n",
    "                This should be added to calculated water availability to\n",
    "                get the water availability used for the calculation of EWR\n",
    "            Unit: m3/month\n",
    "            Location in Excel file: avail_delta\n",
    "            File name once imported: avail_delta.pickle\n",
    "            table shape: (11050, 12)\n",
    "\n",
    "        avail_net\n",
    "            Description: Actual availability as received from WaterGap - after human consumption\n",
    "            Unit: m3/month\n",
    "            Location in Excel file: avail_net\n",
    "            File name once imported: avail_net.pickle\n",
    "            table shape: (11050, 12)\n",
    "\n",
    "        pastor\n",
    "            Description: fraction of PRISTINE water availability that should be reserved for environment\n",
    "            Unit: unitless\n",
    "            Location in Excel file: pastor\n",
    "            File name once imported: pastor.pickle\n",
    "            table shape: (11050, 12)\n",
    "\n",
    "        area\n",
    "            Description: area\n",
    "            Unit: m2\n",
    "            Location in Excel file: area\n",
    "            File name once imported: area.pickle\n",
    "            table shape: (11050,)\n"
   ]
  },
  {
   "cell_type": "markdown",
   "metadata": {},
   "source": [
    "The Excel file also contains a \"filters\" sheet which identify watersheds that are excluded from calculations. two such filters exist:  \n",
    "  - Polar filter, which excludes cells from Greenland  \n",
    "  - Pastor filter, which excludes watersheds without data from the Pastor et al. (2014) method (122 cells), representing small coastal cells with no direct overlap  "
   ]
  },
  {
   "cell_type": "markdown",
   "metadata": {},
   "source": [
    "### Using AwareStatic"
   ]
  },
  {
   "cell_type": "markdown",
   "metadata": {},
   "source": [
    "Import the AwareStatic module"
   ]
  },
  {
   "cell_type": "code",
   "execution_count": 1,
   "metadata": {},
   "outputs": [],
   "source": [
    "from aware_cf_calculator import AwareStatic"
   ]
  },
  {
   "cell_type": "markdown",
   "metadata": {},
   "source": [
    "Determine (1) where you want results to be stored and (2) where the Excel file with input parameters is found."
   ]
  },
  {
   "cell_type": "code",
   "execution_count": 2,
   "metadata": {},
   "outputs": [],
   "source": [
    "from pathlib import Path\n",
    "dirpath_for_results = Path(r\"F:/AwareSampleUse\")\n",
    "input_data_filepath = Path(r\"../data/AWARE_base_data.xlsx\") \n",
    "# Note: the excel file does not need to be in the same directory as results."
   ]
  },
  {
   "cell_type": "markdown",
   "metadata": {},
   "source": [
    "Create an AwareStatic object: "
   ]
  },
  {
   "cell_type": "code",
   "execution_count": 3,
   "metadata": {},
   "outputs": [
    {
     "name": "stdout",
     "output_type": "stream",
     "text": [
      "Data needs to be imported.\n",
      "\n",
      "Extracting data from Excel...\n",
      "...area\n",
      "...avail_delta\n",
      "...avail_net\n",
      "...domestic\n",
      "...electricity\n",
      "...irrigation\n",
      "...livestock\n",
      "...manufacturing\n",
      "...pastor\n",
      "...uncertainty\n",
      "...filters\n",
      "...model_uncertainty\n",
      "\n",
      "Filtering out unwanted basins\n",
      "...area\n",
      "\t shape changed from (11050, 1) to (9707, 1)\n",
      "...avail_delta\n",
      "\t shape changed from (11050, 12) to (9707, 12)\n",
      "...avail_net\n",
      "\t shape changed from (11050, 12) to (9707, 12)\n",
      "...domestic\n",
      "\t shape changed from (11050, 1) to (9707, 1)\n",
      "...electricity\n",
      "\t shape changed from (11050, 1) to (9707, 1)\n",
      "...irrigation\n",
      "\t shape changed from (11050, 12) to (9707, 12)\n",
      "...livestock\n",
      "\t shape changed from (11050, 1) to (9707, 1)\n",
      "...manufacturing\n",
      "\t shape changed from (11050, 1) to (9707, 1)\n",
      "...pastor\n",
      "\t shape changed from (11050, 12) to (9707, 12)\n",
      "...uncertainty\n",
      "\t shape changed from (11050, 7) to (9707, 7)\n",
      "...model_uncertainty\n",
      "\t shape changed from (11050, 12) to (9707, 12)\n",
      "No results were calculated, calculate using `det_calcs` method\n"
     ]
    }
   ],
   "source": [
    "aware_static = AwareStatic(\n",
    "    base_dir_path=dirpath_for_results,\n",
    "    raw_data_fp=input_data_filepath,\n",
    ")"
   ]
  },
  {
   "cell_type": "markdown",
   "metadata": {},
   "source": [
    "This simply extracts the data from the Excel file and applies the Polar and Pastor filters.  \n",
    "\n",
    "To actually calculate the characterization factors, one needs to run the `det_calcs` method."
   ]
  },
  {
   "cell_type": "code",
   "execution_count": 4,
   "metadata": {},
   "outputs": [],
   "source": [
    "aware_static.det_calcs(\n",
    "    lower_bound=0.1, # default lower bound in CF calculation, see documentation on AWARE\n",
    "    upper_bound=100, # default upper bound in CF calculation, see documentation on AWARE,\n",
    "    dump_excel=True, # save Excel files with results\n",
    "    dump_pickle=True # save pandas dataframes with results\n",
    ")"
   ]
  },
  {
   "cell_type": "markdown",
   "metadata": {},
   "source": [
    "This generated Excel files and pandas DataFrames with : \n",
    "  - values for all calculated (intermediate) parameters (e.g. Environmental Water Requirement EWR, Human Water Consumption HWC, etc.).  \n",
    "  - characterization factors (monthly, and three types of annual averages, per watershed)  \n",
    "  \n",
    "These are found in the static_results subdirectory."
   ]
  },
  {
   "cell_type": "markdown",
   "metadata": {},
   "source": [
    "Results can also be querried directly. Results are stored in the `aware_static.det_results` attribute, which is a dictionary with values = pandas dataframes and keys = parameters or cfs. The valid keys are:"
   ]
  },
  {
   "cell_type": "code",
   "execution_count": 5,
   "metadata": {},
   "outputs": [
    {
     "data": {
      "text/plain": [
       "['HWC',\n",
       " 'avail_before_human_consumption',\n",
       " 'pristine',\n",
       " 'EWR',\n",
       " 'total_AMD',\n",
       " 'AMD_per_m2',\n",
       " 'yearly_AMD_per_m2',\n",
       " 'AMD_world',\n",
       " 'AMD_world_over_AMD_i',\n",
       " 'cfs_monthly',\n",
       " 'cfs_average_unknown',\n",
       " 'cfs_average_agri',\n",
       " 'cfs_average_non_agri']"
      ]
     },
     "execution_count": 5,
     "metadata": {},
     "output_type": "execute_result"
    }
   ],
   "source": [
    "list(aware_static.det_results.keys())"
   ]
  },
  {
   "cell_type": "markdown",
   "metadata": {},
   "source": [
    "The syntax for getting results is: "
   ]
  },
  {
   "cell_type": "code",
   "execution_count": 6,
   "metadata": {},
   "outputs": [
    {
     "data": {
      "text/html": [
       "<div>\n",
       "<style scoped>\n",
       "    .dataframe tbody tr th:only-of-type {\n",
       "        vertical-align: middle;\n",
       "    }\n",
       "\n",
       "    .dataframe tbody tr th {\n",
       "        vertical-align: top;\n",
       "    }\n",
       "\n",
       "    .dataframe thead th {\n",
       "        text-align: right;\n",
       "    }\n",
       "</style>\n",
       "<table border=\"1\" class=\"dataframe\">\n",
       "  <thead>\n",
       "    <tr style=\"text-align: right;\">\n",
       "      <th></th>\n",
       "      <th>jan</th>\n",
       "      <th>feb</th>\n",
       "      <th>mar</th>\n",
       "      <th>apr</th>\n",
       "      <th>may</th>\n",
       "      <th>jui</th>\n",
       "      <th>jul</th>\n",
       "      <th>aug</th>\n",
       "      <th>sep</th>\n",
       "      <th>oct</th>\n",
       "      <th>nov</th>\n",
       "      <th>dec</th>\n",
       "    </tr>\n",
       "    <tr>\n",
       "      <th>BAS34S_ID</th>\n",
       "      <th></th>\n",
       "      <th></th>\n",
       "      <th></th>\n",
       "      <th></th>\n",
       "      <th></th>\n",
       "      <th></th>\n",
       "      <th></th>\n",
       "      <th></th>\n",
       "      <th></th>\n",
       "      <th></th>\n",
       "      <th></th>\n",
       "      <th></th>\n",
       "    </tr>\n",
       "  </thead>\n",
       "  <tbody>\n",
       "    <tr>\n",
       "      <th>57463</th>\n",
       "      <td>909.000000</td>\n",
       "      <td>909.000000</td>\n",
       "      <td>909.000000</td>\n",
       "      <td>909.000000</td>\n",
       "      <td>909.000000</td>\n",
       "      <td>909.000000</td>\n",
       "      <td>909.000000</td>\n",
       "      <td>909.000000</td>\n",
       "      <td>909.000000</td>\n",
       "      <td>909.000000</td>\n",
       "      <td>909.000000</td>\n",
       "      <td>909.000000</td>\n",
       "    </tr>\n",
       "    <tr>\n",
       "      <th>29676</th>\n",
       "      <td>280898.916667</td>\n",
       "      <td>280898.916667</td>\n",
       "      <td>280898.916667</td>\n",
       "      <td>281410.916667</td>\n",
       "      <td>305815.916667</td>\n",
       "      <td>335531.916667</td>\n",
       "      <td>343819.916667</td>\n",
       "      <td>332456.916667</td>\n",
       "      <td>293201.916667</td>\n",
       "      <td>280898.916667</td>\n",
       "      <td>280898.916667</td>\n",
       "      <td>280898.916667</td>\n",
       "    </tr>\n",
       "    <tr>\n",
       "      <th>6598</th>\n",
       "      <td>6.416667</td>\n",
       "      <td>6.416667</td>\n",
       "      <td>6.416667</td>\n",
       "      <td>6.416667</td>\n",
       "      <td>6.416667</td>\n",
       "      <td>6.416667</td>\n",
       "      <td>6.416667</td>\n",
       "      <td>6.416667</td>\n",
       "      <td>6.416667</td>\n",
       "      <td>6.416667</td>\n",
       "      <td>6.416667</td>\n",
       "      <td>6.416667</td>\n",
       "    </tr>\n",
       "    <tr>\n",
       "      <th>66802</th>\n",
       "      <td>3210.833333</td>\n",
       "      <td>3210.833333</td>\n",
       "      <td>3210.833333</td>\n",
       "      <td>3210.833333</td>\n",
       "      <td>3210.833333</td>\n",
       "      <td>3210.833333</td>\n",
       "      <td>3210.833333</td>\n",
       "      <td>3210.833333</td>\n",
       "      <td>3210.833333</td>\n",
       "      <td>3210.833333</td>\n",
       "      <td>3210.833333</td>\n",
       "      <td>3210.833333</td>\n",
       "    </tr>\n",
       "    <tr>\n",
       "      <th>39041</th>\n",
       "      <td>110901.250000</td>\n",
       "      <td>110901.250000</td>\n",
       "      <td>110901.250000</td>\n",
       "      <td>110901.250000</td>\n",
       "      <td>110901.250000</td>\n",
       "      <td>110901.250000</td>\n",
       "      <td>110901.250000</td>\n",
       "      <td>110901.250000</td>\n",
       "      <td>110901.250000</td>\n",
       "      <td>110901.250000</td>\n",
       "      <td>110901.250000</td>\n",
       "      <td>110901.250000</td>\n",
       "    </tr>\n",
       "  </tbody>\n",
       "</table>\n",
       "</div>"
      ],
      "text/plain": [
       "                     jan            feb            mar            apr  \\\n",
       "BAS34S_ID                                                               \n",
       "57463         909.000000     909.000000     909.000000     909.000000   \n",
       "29676      280898.916667  280898.916667  280898.916667  281410.916667   \n",
       "6598            6.416667       6.416667       6.416667       6.416667   \n",
       "66802        3210.833333    3210.833333    3210.833333    3210.833333   \n",
       "39041      110901.250000  110901.250000  110901.250000  110901.250000   \n",
       "\n",
       "                     may            jui            jul            aug  \\\n",
       "BAS34S_ID                                                               \n",
       "57463         909.000000     909.000000     909.000000     909.000000   \n",
       "29676      305815.916667  335531.916667  343819.916667  332456.916667   \n",
       "6598            6.416667       6.416667       6.416667       6.416667   \n",
       "66802        3210.833333    3210.833333    3210.833333    3210.833333   \n",
       "39041      110901.250000  110901.250000  110901.250000  110901.250000   \n",
       "\n",
       "                     sep            oct            nov            dec  \n",
       "BAS34S_ID                                                              \n",
       "57463         909.000000     909.000000     909.000000     909.000000  \n",
       "29676      293201.916667  280898.916667  280898.916667  280898.916667  \n",
       "6598            6.416667       6.416667       6.416667       6.416667  \n",
       "66802        3210.833333    3210.833333    3210.833333    3210.833333  \n",
       "39041      110901.250000  110901.250000  110901.250000  110901.250000  "
      ]
     },
     "execution_count": 6,
     "metadata": {},
     "output_type": "execute_result"
    }
   ],
   "source": [
    "# HWC results for 5 random watersheds, per month\n",
    "aware_static.det_results['HWC'].sample(n=5)"
   ]
  },
  {
   "cell_type": "code",
   "execution_count": 7,
   "metadata": {},
   "outputs": [
    {
     "data": {
      "text/plain": [
       "0.13414225429829035"
      ]
     },
     "execution_count": 7,
     "metadata": {},
     "output_type": "execute_result"
    }
   ],
   "source": [
    "# CF value for watershed 59993, month=January\n",
    "aware_static.det_results['cfs_monthly'].loc[59993, 'jan']"
   ]
  },
  {
   "cell_type": "code",
   "execution_count": 8,
   "metadata": {},
   "outputs": [
    {
     "data": {
      "text/plain": [
       "0.18919279623174604"
      ]
     },
     "execution_count": 8,
     "metadata": {},
     "output_type": "execute_result"
    }
   ],
   "source": [
    "# Annual average CF (agricultural use) for watershed 41064\n",
    "aware_static.det_results['cfs_average_agri'].loc[59993]"
   ]
  },
  {
   "cell_type": "markdown",
   "metadata": {},
   "source": [
    "## AwareStochastic"
   ]
  },
  {
   "cell_type": "markdown",
   "metadata": {},
   "source": [
    "### Objective"
   ]
  },
  {
   "cell_type": "markdown",
   "metadata": {},
   "source": [
    "The AwareStochastic is used to carry out Monte Carlo simulations to produce sets of random CFs. It first generates random samples for all input random variables, and then uses these to calculate CFs. "
   ]
  },
  {
   "cell_type": "markdown",
   "metadata": {},
   "source": [
    "### Using AwareStochastic"
   ]
  },
  {
   "cell_type": "code",
   "execution_count": 9,
   "metadata": {},
   "outputs": [],
   "source": [
    "from aware_cf_calculator import AwareStochastic"
   ]
  },
  {
   "cell_type": "code",
   "execution_count": 11,
   "metadata": {},
   "outputs": [
    {
     "name": "stdout",
     "output_type": "stream",
     "text": [
      "Data already imported\n",
      "Non-CF results already calculated\n",
      "CFs available for ['cfs_0_1_100']\n",
      "---checking samples for avail_delta_wo_model_uncertainty\n",
      "Samples need to be generated.\n",
      "\t50 samples taken for avail_delta_wo_model_uncertainty\n",
      "\t50 samples taken for avail_net_wo_model_uncertainty\n",
      "\t50 samples taken for domestic\n",
      "\t50 samples taken for electricity\n",
      "\t50 samples taken for irrigation\n",
      "\t50 samples taken for livestock\n",
      "\t50 samples taken for manufacturing\n",
      "\t50 samples taken for pastor\n",
      "\t50 samples taken for model_uncertainty\n",
      "Adding model uncertainty\n"
     ]
    }
   ],
   "source": [
    "aware_stochastic = AwareStochastic(\n",
    "    base_dir_path=dirpath_for_results,\n",
    "    sim_name='demo',     # Name of the simulation - many simulations can be carried out with different parameters\n",
    "    consider_certain=[], # Names of parameters to hold static, default is empty list\n",
    "    caps={'model_uncertainty': 17.4}, # Superior cap for k value for model uncertainty\n",
    "    iterations=50, # Number of iterations for the simulation, small number for this demo,\n",
    "    dtype=\"float64\"\n",
    ")"
   ]
  },
  {
   "cell_type": "markdown",
   "metadata": {},
   "source": [
    "From these sampled data, AwareStichastic calculates AMD results (one per iteration)"
   ]
  },
  {
   "cell_type": "code",
   "execution_count": 12,
   "metadata": {},
   "outputs": [
    {
     "name": "stdout",
     "output_type": "stream",
     "text": [
      "ready to start with HWC, 0 of 50 already calculated\n"
     ]
    }
   ],
   "source": [
    "aware_stochastic.calculate_AMD_samples()"
   ]
  },
  {
   "cell_type": "markdown",
   "metadata": {},
   "source": [
    "The AMD results (and intermediate variables such as HWC) are stored \"one file per iteration, multiple watersheds\". The method `aggregate_results` flips this, saving results \"one file per watershed\" (or watershed-month), with all samples stored in the same order in each file."
   ]
  },
  {
   "cell_type": "code",
   "execution_count": 13,
   "metadata": {},
   "outputs": [
    {
     "name": "stdout",
     "output_type": "stream",
     "text": [
      "116484 to treat for HWC\n",
      "Aggregating AMD_world\n",
      "116484 to treat for AMD_world_over_AMD_i\n",
      "116484 to treat for irrigation\n"
     ]
    }
   ],
   "source": [
    "aware_stochastic.aggregate_results()"
   ]
  },
  {
   "cell_type": "markdown",
   "metadata": {},
   "source": [
    "Next is the actual calculation of CFs. This can be done for different cut-off values (default is 0.1 and 100 for lower and upper bound on the AMD_world/AMD ratio)."
   ]
  },
  {
   "cell_type": "code",
   "execution_count": 14,
   "metadata": {},
   "outputs": [],
   "source": [
    "aware_stochastic.calculate_all_single_month_cfs_stochastic(lower_bound=0.1, upper_bound=100)"
   ]
  },
  {
   "cell_type": "code",
   "execution_count": 15,
   "metadata": {},
   "outputs": [
    {
     "name": "stdout",
     "output_type": "stream",
     "text": [
      "Will generate average cfs for 9707 basins\n"
     ]
    }
   ],
   "source": [
    "aware_stochastic.calculate_cfs_average(lower_bound=0.1, upper_bound=100)"
   ]
  },
  {
   "cell_type": "markdown",
   "metadata": {},
   "source": [
    "The resulting numpy arrays are stored in the directory `AwareSampleUse/stochastic_results/demo/cfs/0_1_100`  \n",
    "The numpy arrays can be converted to the more well-known `csv` format:"
   ]
  },
  {
   "cell_type": "code",
   "execution_count": 16,
   "metadata": {},
   "outputs": [],
   "source": [
    "aware_stochastic.convert_dfs_to_csv(lower_bound=0.1, upper_bound=100)"
   ]
  },
  {
   "cell_type": "markdown",
   "metadata": {},
   "source": [
    "## AwareAnalyser"
   ]
  },
  {
   "cell_type": "markdown",
   "metadata": {},
   "source": [
    "### Objective"
   ]
  },
  {
   "cell_type": "markdown",
   "metadata": {},
   "source": [
    "The AwareAnalyser module has an ad hoc suite of methods that allow an analysis of results.  \n",
    "Some of these methods were used in the analyses in the paper.  \n",
    "It is beyond the scope of this notebook to go into detail in all the types of analyses, but the reader is invited to get to know them and expand upon them.  \n",
    "A sample use of the module is presented below."
   ]
  },
  {
   "cell_type": "markdown",
   "metadata": {},
   "source": [
    "### Sample use of the AwareAnalyser methods"
   ]
  },
  {
   "cell_type": "markdown",
   "metadata": {},
   "source": [
    "#### Instantiating the AwareAnalyser object"
   ]
  },
  {
   "cell_type": "code",
   "execution_count": 17,
   "metadata": {},
   "outputs": [],
   "source": [
    "from aware_cf_calculator import AwareAnalyser"
   ]
  },
  {
   "cell_type": "code",
   "execution_count": 18,
   "metadata": {},
   "outputs": [
    {
     "name": "stdout",
     "output_type": "stream",
     "text": [
      "Data already imported\n",
      "Non-CF results already calculated\n",
      "CFs available for ['cfs_0_1_100']\n",
      "---checking samples for avail_delta_wo_model_uncertainty\n",
      "---checking samples for avail_net_wo_model_uncertainty\n",
      "---checking samples for domestic\n",
      "---checking samples for electricity\n",
      "---checking samples for irrigation\n",
      "---checking samples for livestock\n",
      "---checking samples for manufacturing\n",
      "---checking samples for pastor\n",
      "---checking samples for model_uncertainty\n",
      "---checking samples for avail_net\n",
      "---checking samples for avail_delta\n",
      "Samples already exist.\n"
     ]
    }
   ],
   "source": [
    "aware_analyser = AwareAnalyser(base_dir_path=dirpath_for_results, sim_name=\"demo\")"
   ]
  },
  {
   "cell_type": "markdown",
   "metadata": {},
   "source": [
    "#### Graphing results for a watershed-month"
   ]
  },
  {
   "cell_type": "markdown",
   "metadata": {},
   "source": [
    "Sample method: plot histograms for key parameters and cfs for a given watershed/month  \n",
    "Note that the results are for 50 iterations only, which of course is not really sufficient to produce smooth distributions."
   ]
  },
  {
   "cell_type": "code",
   "execution_count": 19,
   "metadata": {},
   "outputs": [],
   "source": [
    "%matplotlib inline"
   ]
  },
  {
   "cell_type": "code",
   "execution_count": 20,
   "metadata": {},
   "outputs": [
    {
     "name": "stdout",
     "output_type": "stream",
     "text": [
      "Could not get electricity for basin 59993 and month jan\n"
     ]
    },
    {
     "data": {
      "image/png": "[encoded data removed]",
      "text/plain": [
       "<Figure size 576x1044 with 21 Axes>"
      ]
     },
     "metadata": {
      "needs_background": "light"
     },
     "output_type": "display_data"
    }
   ],
   "source": [
    "aware_analyser.plot_all_hists_given_basin_and_month(\n",
    "    basin=59993,\n",
    "    month='jan',\n",
    "    lower_bound=0.1,\n",
    "    upper_bound=100,\n",
    "    return_graph=True,\n",
    "    save_graph=False\n",
    ");"
   ]
  },
  {
   "cell_type": "markdown",
   "metadata": {},
   "source": [
    "#### Getting some stats"
   ]
  },
  {
   "cell_type": "code",
   "execution_count": 21,
   "metadata": {},
   "outputs": [
    {
     "name": "stdout",
     "output_type": "stream",
     "text": [
      "Looking into months: ['jan', 'jul']\n"
     ]
    },
    {
     "name": "stderr",
     "output_type": "stream",
     "text": [
      "0% [####################] 100% | ETA: 00:00:00\n",
      "Total time elapsed: 00:00:00\n",
      "0% [##########] 100% | ETA: 00:00:00\n",
      "Total time elapsed: 00:00:00\n"
     ]
    }
   ],
   "source": [
    "# Let's get a random list of 10 watersheds\n",
    "import random\n",
    "random_watersheds = random.sample(aware_analyser.basins, 10)\n",
    "\n",
    "# And then let's generate some statistics for the months of January and July for these months\n",
    "cf_stats = aware_analyser.get_full_stats(\n",
    "    result_type='monthly_cf_all', # type aware_analyser.valid_result_types for a list of all result types\n",
    "    basins=random_watersheds,     # use 'all' to generate stats for all watersheds. Be ready to wait a while...\n",
    "    months=['jan', 'jul'],         # use 'all' to generate stats for all months\n",
    "    lower_bound=0.1, upper_bound=100,\n",
    "    aggregate_by_static=False, \n",
    "    augment_with_dispersion=True,\n",
    "    iterations_limiter=None\n",
    ")"
   ]
  },
  {
   "cell_type": "code",
   "execution_count": 22,
   "metadata": {},
   "outputs": [
    {
     "data": {
      "text/html": [
       "<div>\n",
       "<style scoped>\n",
       "    .dataframe tbody tr th:only-of-type {\n",
       "        vertical-align: middle;\n",
       "    }\n",
       "\n",
       "    .dataframe tbody tr th {\n",
       "        vertical-align: top;\n",
       "    }\n",
       "\n",
       "    .dataframe thead th {\n",
       "        text-align: right;\n",
       "    }\n",
       "</style>\n",
       "<table border=\"1\" class=\"dataframe\">\n",
       "  <thead>\n",
       "    <tr style=\"text-align: right;\">\n",
       "      <th></th>\n",
       "      <th>2.5%ile</th>\n",
       "      <th>Q1</th>\n",
       "      <th>Q3</th>\n",
       "      <th>97.5%ile</th>\n",
       "      <th>sd</th>\n",
       "      <th>mean</th>\n",
       "      <th>median</th>\n",
       "      <th>BAS34S_ID</th>\n",
       "      <th>month</th>\n",
       "      <th>static</th>\n",
       "      <th>IQR</th>\n",
       "      <th>IQR/static</th>\n",
       "      <th>IPR-95%</th>\n",
       "      <th>IPR-95%/static</th>\n",
       "      <th>sd/static</th>\n",
       "    </tr>\n",
       "  </thead>\n",
       "  <tbody>\n",
       "    <tr>\n",
       "      <th>0</th>\n",
       "      <td>0.859964</td>\n",
       "      <td>1.573880</td>\n",
       "      <td>2.741754</td>\n",
       "      <td>3.823516</td>\n",
       "      <td>0.892287</td>\n",
       "      <td>2.194213</td>\n",
       "      <td>1.990094</td>\n",
       "      <td>16140.0</td>\n",
       "      <td>jan</td>\n",
       "      <td>1.411446</td>\n",
       "      <td>1.167874</td>\n",
       "      <td>0.827431</td>\n",
       "      <td>2.963552</td>\n",
       "      <td>2.099657</td>\n",
       "      <td>0.632180</td>\n",
       "    </tr>\n",
       "    <tr>\n",
       "      <th>1</th>\n",
       "      <td>0.663582</td>\n",
       "      <td>1.099955</td>\n",
       "      <td>3.307714</td>\n",
       "      <td>10.322773</td>\n",
       "      <td>2.586210</td>\n",
       "      <td>2.761405</td>\n",
       "      <td>1.676544</td>\n",
       "      <td>16140.0</td>\n",
       "      <td>jul</td>\n",
       "      <td>1.323401</td>\n",
       "      <td>2.207760</td>\n",
       "      <td>1.668247</td>\n",
       "      <td>9.659191</td>\n",
       "      <td>7.298763</td>\n",
       "      <td>1.954215</td>\n",
       "    </tr>\n",
       "    <tr>\n",
       "      <th>2</th>\n",
       "      <td>1.841079</td>\n",
       "      <td>12.695815</td>\n",
       "      <td>100.000000</td>\n",
       "      <td>100.000000</td>\n",
       "      <td>39.479187</td>\n",
       "      <td>44.612774</td>\n",
       "      <td>21.646786</td>\n",
       "      <td>2791.0</td>\n",
       "      <td>jan</td>\n",
       "      <td>17.549826</td>\n",
       "      <td>87.304185</td>\n",
       "      <td>4.974647</td>\n",
       "      <td>98.158921</td>\n",
       "      <td>5.593156</td>\n",
       "      <td>2.249549</td>\n",
       "    </tr>\n",
       "    <tr>\n",
       "      <th>3</th>\n",
       "      <td>0.288364</td>\n",
       "      <td>0.487077</td>\n",
       "      <td>0.794155</td>\n",
       "      <td>1.115489</td>\n",
       "      <td>0.230826</td>\n",
       "      <td>0.650672</td>\n",
       "      <td>0.617491</td>\n",
       "      <td>2791.0</td>\n",
       "      <td>jul</td>\n",
       "      <td>0.477694</td>\n",
       "      <td>0.307078</td>\n",
       "      <td>0.642834</td>\n",
       "      <td>0.827125</td>\n",
       "      <td>1.731495</td>\n",
       "      <td>0.483209</td>\n",
       "    </tr>\n",
       "    <tr>\n",
       "      <th>4</th>\n",
       "      <td>1.553284</td>\n",
       "      <td>3.052101</td>\n",
       "      <td>5.870340</td>\n",
       "      <td>12.593530</td>\n",
       "      <td>2.665433</td>\n",
       "      <td>5.022439</td>\n",
       "      <td>4.898457</td>\n",
       "      <td>38248.0</td>\n",
       "      <td>jan</td>\n",
       "      <td>3.771045</td>\n",
       "      <td>2.818239</td>\n",
       "      <td>0.747336</td>\n",
       "      <td>11.040246</td>\n",
       "      <td>2.927635</td>\n",
       "      <td>0.706816</td>\n",
       "    </tr>\n",
       "    <tr>\n",
       "      <th>5</th>\n",
       "      <td>2.952981</td>\n",
       "      <td>10.067967</td>\n",
       "      <td>100.000000</td>\n",
       "      <td>100.000000</td>\n",
       "      <td>43.379261</td>\n",
       "      <td>63.598526</td>\n",
       "      <td>100.000000</td>\n",
       "      <td>38248.0</td>\n",
       "      <td>jul</td>\n",
       "      <td>100.000000</td>\n",
       "      <td>89.932033</td>\n",
       "      <td>0.899320</td>\n",
       "      <td>97.047019</td>\n",
       "      <td>0.970470</td>\n",
       "      <td>0.433793</td>\n",
       "    </tr>\n",
       "    <tr>\n",
       "      <th>6</th>\n",
       "      <td>0.187549</td>\n",
       "      <td>0.413841</td>\n",
       "      <td>1.576786</td>\n",
       "      <td>3.376138</td>\n",
       "      <td>1.363342</td>\n",
       "      <td>1.240485</td>\n",
       "      <td>0.881099</td>\n",
       "      <td>45886.0</td>\n",
       "      <td>jan</td>\n",
       "      <td>0.493949</td>\n",
       "      <td>1.162945</td>\n",
       "      <td>2.354384</td>\n",
       "      <td>3.188588</td>\n",
       "      <td>6.455303</td>\n",
       "      <td>2.760088</td>\n",
       "    </tr>\n",
       "    <tr>\n",
       "      <th>7</th>\n",
       "      <td>0.642580</td>\n",
       "      <td>1.181155</td>\n",
       "      <td>2.146580</td>\n",
       "      <td>20.350022</td>\n",
       "      <td>5.558126</td>\n",
       "      <td>2.916648</td>\n",
       "      <td>1.510317</td>\n",
       "      <td>45886.0</td>\n",
       "      <td>jul</td>\n",
       "      <td>1.150880</td>\n",
       "      <td>0.965425</td>\n",
       "      <td>0.838859</td>\n",
       "      <td>19.707442</td>\n",
       "      <td>17.123808</td>\n",
       "      <td>4.829459</td>\n",
       "    </tr>\n",
       "    <tr>\n",
       "      <th>8</th>\n",
       "      <td>1.102686</td>\n",
       "      <td>2.655101</td>\n",
       "      <td>5.662546</td>\n",
       "      <td>13.037039</td>\n",
       "      <td>3.125264</td>\n",
       "      <td>4.779358</td>\n",
       "      <td>4.320927</td>\n",
       "      <td>49469.0</td>\n",
       "      <td>jan</td>\n",
       "      <td>3.290177</td>\n",
       "      <td>3.007445</td>\n",
       "      <td>0.914068</td>\n",
       "      <td>11.934353</td>\n",
       "      <td>3.627268</td>\n",
       "      <td>0.949877</td>\n",
       "    </tr>\n",
       "    <tr>\n",
       "      <th>9</th>\n",
       "      <td>0.935261</td>\n",
       "      <td>2.803757</td>\n",
       "      <td>12.664229</td>\n",
       "      <td>87.791236</td>\n",
       "      <td>20.464417</td>\n",
       "      <td>13.044992</td>\n",
       "      <td>6.324322</td>\n",
       "      <td>49469.0</td>\n",
       "      <td>jul</td>\n",
       "      <td>4.138597</td>\n",
       "      <td>9.860472</td>\n",
       "      <td>2.382564</td>\n",
       "      <td>86.855975</td>\n",
       "      <td>20.986814</td>\n",
       "      <td>4.944771</td>\n",
       "    </tr>\n",
       "    <tr>\n",
       "      <th>10</th>\n",
       "      <td>100.000000</td>\n",
       "      <td>100.000000</td>\n",
       "      <td>100.000000</td>\n",
       "      <td>100.000000</td>\n",
       "      <td>0.000000</td>\n",
       "      <td>100.000000</td>\n",
       "      <td>100.000000</td>\n",
       "      <td>28839.0</td>\n",
       "      <td>jan</td>\n",
       "      <td>100.000000</td>\n",
       "      <td>0.000000</td>\n",
       "      <td>0.000000</td>\n",
       "      <td>0.000000</td>\n",
       "      <td>0.000000</td>\n",
       "      <td>0.000000</td>\n",
       "    </tr>\n",
       "    <tr>\n",
       "      <th>11</th>\n",
       "      <td>1.134457</td>\n",
       "      <td>5.302098</td>\n",
       "      <td>100.000000</td>\n",
       "      <td>100.000000</td>\n",
       "      <td>46.310696</td>\n",
       "      <td>62.270496</td>\n",
       "      <td>100.000000</td>\n",
       "      <td>28839.0</td>\n",
       "      <td>jul</td>\n",
       "      <td>100.000000</td>\n",
       "      <td>94.697902</td>\n",
       "      <td>0.946979</td>\n",
       "      <td>98.865543</td>\n",
       "      <td>0.988655</td>\n",
       "      <td>0.463107</td>\n",
       "    </tr>\n",
       "    <tr>\n",
       "      <th>12</th>\n",
       "      <td>0.204667</td>\n",
       "      <td>0.341683</td>\n",
       "      <td>0.654638</td>\n",
       "      <td>1.034925</td>\n",
       "      <td>0.236397</td>\n",
       "      <td>0.525656</td>\n",
       "      <td>0.489849</td>\n",
       "      <td>57688.0</td>\n",
       "      <td>jan</td>\n",
       "      <td>0.407688</td>\n",
       "      <td>0.312955</td>\n",
       "      <td>0.767633</td>\n",
       "      <td>0.830257</td>\n",
       "      <td>2.036501</td>\n",
       "      <td>0.579848</td>\n",
       "    </tr>\n",
       "    <tr>\n",
       "      <th>13</th>\n",
       "      <td>0.211888</td>\n",
       "      <td>0.403373</td>\n",
       "      <td>0.626024</td>\n",
       "      <td>1.108897</td>\n",
       "      <td>0.294911</td>\n",
       "      <td>0.569074</td>\n",
       "      <td>0.493082</td>\n",
       "      <td>57688.0</td>\n",
       "      <td>jul</td>\n",
       "      <td>0.422267</td>\n",
       "      <td>0.222651</td>\n",
       "      <td>0.527275</td>\n",
       "      <td>0.897009</td>\n",
       "      <td>2.124268</td>\n",
       "      <td>0.698399</td>\n",
       "    </tr>\n",
       "    <tr>\n",
       "      <th>14</th>\n",
       "      <td>0.693510</td>\n",
       "      <td>2.109387</td>\n",
       "      <td>7.271035</td>\n",
       "      <td>36.965386</td>\n",
       "      <td>9.359173</td>\n",
       "      <td>7.510592</td>\n",
       "      <td>4.485990</td>\n",
       "      <td>10192.0</td>\n",
       "      <td>jan</td>\n",
       "      <td>2.835111</td>\n",
       "      <td>5.161649</td>\n",
       "      <td>1.820616</td>\n",
       "      <td>36.271876</td>\n",
       "      <td>12.793811</td>\n",
       "      <td>3.301166</td>\n",
       "    </tr>\n",
       "    <tr>\n",
       "      <th>15</th>\n",
       "      <td>0.296080</td>\n",
       "      <td>0.539394</td>\n",
       "      <td>1.328264</td>\n",
       "      <td>1.780731</td>\n",
       "      <td>0.490120</td>\n",
       "      <td>0.959168</td>\n",
       "      <td>0.890316</td>\n",
       "      <td>10192.0</td>\n",
       "      <td>jul</td>\n",
       "      <td>0.697489</td>\n",
       "      <td>0.788870</td>\n",
       "      <td>1.131015</td>\n",
       "      <td>1.484650</td>\n",
       "      <td>2.128566</td>\n",
       "      <td>0.702692</td>\n",
       "    </tr>\n",
       "    <tr>\n",
       "      <th>16</th>\n",
       "      <td>0.528545</td>\n",
       "      <td>3.364571</td>\n",
       "      <td>42.324148</td>\n",
       "      <td>100.000000</td>\n",
       "      <td>32.561172</td>\n",
       "      <td>29.305824</td>\n",
       "      <td>14.905510</td>\n",
       "      <td>11754.0</td>\n",
       "      <td>jan</td>\n",
       "      <td>12.770213</td>\n",
       "      <td>38.959578</td>\n",
       "      <td>3.050817</td>\n",
       "      <td>99.471455</td>\n",
       "      <td>7.789334</td>\n",
       "      <td>2.549775</td>\n",
       "    </tr>\n",
       "    <tr>\n",
       "      <th>17</th>\n",
       "      <td>1.907951</td>\n",
       "      <td>3.852129</td>\n",
       "      <td>7.932971</td>\n",
       "      <td>15.094576</td>\n",
       "      <td>4.067978</td>\n",
       "      <td>6.412794</td>\n",
       "      <td>5.630943</td>\n",
       "      <td>11754.0</td>\n",
       "      <td>jul</td>\n",
       "      <td>4.492829</td>\n",
       "      <td>4.080842</td>\n",
       "      <td>0.908301</td>\n",
       "      <td>13.186626</td>\n",
       "      <td>2.935038</td>\n",
       "      <td>0.905438</td>\n",
       "    </tr>\n",
       "    <tr>\n",
       "      <th>18</th>\n",
       "      <td>2.692034</td>\n",
       "      <td>9.574186</td>\n",
       "      <td>32.221950</td>\n",
       "      <td>92.279310</td>\n",
       "      <td>22.503550</td>\n",
       "      <td>25.750280</td>\n",
       "      <td>17.429146</td>\n",
       "      <td>25628.0</td>\n",
       "      <td>jan</td>\n",
       "      <td>12.201270</td>\n",
       "      <td>22.647764</td>\n",
       "      <td>1.856181</td>\n",
       "      <td>89.587276</td>\n",
       "      <td>7.342455</td>\n",
       "      <td>1.844361</td>\n",
       "    </tr>\n",
       "    <tr>\n",
       "      <th>19</th>\n",
       "      <td>1.001311</td>\n",
       "      <td>1.722363</td>\n",
       "      <td>3.794544</td>\n",
       "      <td>10.221392</td>\n",
       "      <td>4.918294</td>\n",
       "      <td>3.814862</td>\n",
       "      <td>2.368464</td>\n",
       "      <td>25628.0</td>\n",
       "      <td>jul</td>\n",
       "      <td>2.264323</td>\n",
       "      <td>2.072181</td>\n",
       "      <td>0.915144</td>\n",
       "      <td>9.220081</td>\n",
       "      <td>4.071894</td>\n",
       "      <td>2.172082</td>\n",
       "    </tr>\n",
       "  </tbody>\n",
       "</table>\n",
       "</div>"
      ],
      "text/plain": [
       "       2.5%ile          Q1          Q3    97.5%ile         sd        mean  \\\n",
       "0     0.859964    1.573880    2.741754    3.823516   0.892287    2.194213   \n",
       "1     0.663582    1.099955    3.307714   10.322773   2.586210    2.761405   \n",
       "2     1.841079   12.695815  100.000000  100.000000  39.479187   44.612774   \n",
       "3     0.288364    0.487077    0.794155    1.115489   0.230826    0.650672   \n",
       "4     1.553284    3.052101    5.870340   12.593530   2.665433    5.022439   \n",
       "5     2.952981   10.067967  100.000000  100.000000  43.379261   63.598526   \n",
       "6     0.187549    0.413841    1.576786    3.376138   1.363342    1.240485   \n",
       "7     0.642580    1.181155    2.146580   20.350022   5.558126    2.916648   \n",
       "8     1.102686    2.655101    5.662546   13.037039   3.125264    4.779358   \n",
       "9     0.935261    2.803757   12.664229   87.791236  20.464417   13.044992   \n",
       "10  100.000000  100.000000  100.000000  100.000000   0.000000  100.000000   \n",
       "11    1.134457    5.302098  100.000000  100.000000  46.310696   62.270496   \n",
       "12    0.204667    0.341683    0.654638    1.034925   0.236397    0.525656   \n",
       "13    0.211888    0.403373    0.626024    1.108897   0.294911    0.569074   \n",
       "14    0.693510    2.109387    7.271035   36.965386   9.359173    7.510592   \n",
       "15    0.296080    0.539394    1.328264    1.780731   0.490120    0.959168   \n",
       "16    0.528545    3.364571   42.324148  100.000000  32.561172   29.305824   \n",
       "17    1.907951    3.852129    7.932971   15.094576   4.067978    6.412794   \n",
       "18    2.692034    9.574186   32.221950   92.279310  22.503550   25.750280   \n",
       "19    1.001311    1.722363    3.794544   10.221392   4.918294    3.814862   \n",
       "\n",
       "        median  BAS34S_ID month      static        IQR  IQR/static    IPR-95%  \\\n",
       "0     1.990094    16140.0   jan    1.411446   1.167874    0.827431   2.963552   \n",
       "1     1.676544    16140.0   jul    1.323401   2.207760    1.668247   9.659191   \n",
       "2    21.646786     2791.0   jan   17.549826  87.304185    4.974647  98.158921   \n",
       "3     0.617491     2791.0   jul    0.477694   0.307078    0.642834   0.827125   \n",
       "4     4.898457    38248.0   jan    3.771045   2.818239    0.747336  11.040246   \n",
       "5   100.000000    38248.0   jul  100.000000  89.932033    0.899320  97.047019   \n",
       "6     0.881099    45886.0   jan    0.493949   1.162945    2.354384   3.188588   \n",
       "7     1.510317    45886.0   jul    1.150880   0.965425    0.838859  19.707442   \n",
       "8     4.320927    49469.0   jan    3.290177   3.007445    0.914068  11.934353   \n",
       "9     6.324322    49469.0   jul    4.138597   9.860472    2.382564  86.855975   \n",
       "10  100.000000    28839.0   jan  100.000000   0.000000    0.000000   0.000000   \n",
       "11  100.000000    28839.0   jul  100.000000  94.697902    0.946979  98.865543   \n",
       "12    0.489849    57688.0   jan    0.407688   0.312955    0.767633   0.830257   \n",
       "13    0.493082    57688.0   jul    0.422267   0.222651    0.527275   0.897009   \n",
       "14    4.485990    10192.0   jan    2.835111   5.161649    1.820616  36.271876   \n",
       "15    0.890316    10192.0   jul    0.697489   0.788870    1.131015   1.484650   \n",
       "16   14.905510    11754.0   jan   12.770213  38.959578    3.050817  99.471455   \n",
       "17    5.630943    11754.0   jul    4.492829   4.080842    0.908301  13.186626   \n",
       "18   17.429146    25628.0   jan   12.201270  22.647764    1.856181  89.587276   \n",
       "19    2.368464    25628.0   jul    2.264323   2.072181    0.915144   9.220081   \n",
       "\n",
       "    IPR-95%/static  sd/static  \n",
       "0         2.099657   0.632180  \n",
       "1         7.298763   1.954215  \n",
       "2         5.593156   2.249549  \n",
       "3         1.731495   0.483209  \n",
       "4         2.927635   0.706816  \n",
       "5         0.970470   0.433793  \n",
       "6         6.455303   2.760088  \n",
       "7        17.123808   4.829459  \n",
       "8         3.627268   0.949877  \n",
       "9        20.986814   4.944771  \n",
       "10        0.000000   0.000000  \n",
       "11        0.988655   0.463107  \n",
       "12        2.036501   0.579848  \n",
       "13        2.124268   0.698399  \n",
       "14       12.793811   3.301166  \n",
       "15        2.128566   0.702692  \n",
       "16        7.789334   2.549775  \n",
       "17        2.935038   0.905438  \n",
       "18        7.342455   1.844361  \n",
       "19        4.071894   2.172082  "
      ]
     },
     "execution_count": 22,
     "metadata": {},
     "output_type": "execute_result"
    }
   ],
   "source": [
    "cf_stats"
   ]
  },
  {
   "cell_type": "code",
   "execution_count": null,
   "metadata": {},
   "outputs": [],
   "source": []
  }
 ],
 "metadata": {
  "kernelspec": {
   "display_name": "Python 3",
   "language": "python",
   "name": "python3"
  },
  "language_info": {
   "codemirror_mode": {
    "name": "ipython",
    "version": 3
   },
   "file_extension": ".py",
   "mimetype": "text/x-python",
   "name": "python",
   "nbconvert_exporter": "python",
   "pygments_lexer": "ipython3",
   "version": "3.7.7"
  },
  "toc": {
   "base_numbering": 1,
   "nav_menu": {},
   "number_sections": true,
   "sideBar": true,
   "skip_h1_title": true,
   "title_cell": "Table of Contents",
   "title_sidebar": "Contents",
   "toc_cell": true,
   "toc_position": {},
   "toc_section_display": true,
   "toc_window_display": true
  },
  "varInspector": {
   "cols": {
    "lenName": 16,
    "lenType": 16,
    "lenVar": 40
   },
   "kernels_config": {
    "python": {
     "delete_cmd_postfix": "",
     "delete_cmd_prefix": "del ",
     "library": "var_list.py",
     "varRefreshCmd": "print(var_dic_list())"
    },
    "r": {
     "delete_cmd_postfix": ") ",
     "delete_cmd_prefix": "rm(",
     "library": "var_list.r",
     "varRefreshCmd": "cat(var_dic_list()) "
    }
   },
   "types_to_exclude": [
    "module",
    "function",
    "builtin_function_or_method",
    "instance",
    "_Feature"
   ],
   "window_display": false
  }
 },
 "nbformat": 4,
 "nbformat_minor": 2
}
